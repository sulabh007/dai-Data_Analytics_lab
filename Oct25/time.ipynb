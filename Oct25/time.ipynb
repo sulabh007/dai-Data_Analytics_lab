{
 "cells": [
  {
   "cell_type": "markdown",
   "metadata": {},
   "source": [
    "\n",
    "1. Write a Pandas program to create <br>\n",
    "a) Datetime object for Jan 15 2012.<br>\n",
    "b) Specific date and time of 9:20 pm.<br>\n",
    "c) Local date and time.<br>\n",
    "d) A date without time.<br>\n",
    "e) Current date.<br>\n",
    "f) Time from a datetime.<br>\n",
    "g) Current local time.<br>\n",
    "lick me to see the sample solution\n"
   ]
  },
  {
   "cell_type": "code",
   "execution_count": 1,
   "metadata": {},
   "outputs": [
    {
     "name": "stdout",
     "output_type": "stream",
     "text": [
      "Datetime object for Jan 11 2012:\n",
      "2012-01-11 00:00:00\n",
      "\n",
      "Specific date and time of 9:20 pm\n",
      "2011-01-11 21:20:00\n",
      "\n",
      "Local date and time:\n",
      "2023-10-25 16:34:58.298510\n",
      "\n",
      "A date without time: \n",
      "2012-05-22\n",
      "\n",
      "Current date:\n",
      "2023-10-25\n",
      "\n",
      "Time from a datetime:\n",
      "18:12:00\n",
      "\n",
      "Current local time:\n",
      "16:34:58.300456\n"
     ]
    }
   ],
   "source": [
    "import datetime\n",
    "from datetime import datetime\n",
    "print(\"Datetime object for Jan 11 2012:\")\n",
    "print(datetime(2012, 1, 11))\n",
    "print(\"\\nSpecific date and time of 9:20 pm\") \n",
    "print(datetime(2011, 1, 11, 21, 20))\n",
    "print(\"\\nLocal date and time:\")\n",
    "print(datetime.now())\n",
    "print(\"\\nA date without time: \")\n",
    "print(datetime.date(datetime(2012, 5, 22)))\n",
    "print(\"\\nCurrent date:\")\n",
    "print(datetime.now().date())\n",
    "print(\"\\nTime from a datetime:\")\n",
    "print(datetime.time(datetime(2012, 12, 15, 18, 12)))\n",
    "print(\"\\nCurrent local time:\") \n",
    "print(datetime.now().time())"
   ]
  },
  {
   "cell_type": "markdown",
   "metadata": {},
   "source": [
    "\n",
    "2. Write a Pandas program to create <br>\n",
    "a) a specific date using timestamp.<br>\n",
    "b) date and time using timestamp.<br>\n",
    "c) a time adds in the current local date using timestamp.<br>\n",
    "d) current date and time using timestamp.<br>\n",
    "lick me to see the sample solution\n"
   ]
  },
  {
   "cell_type": "code",
   "execution_count": 2,
   "metadata": {},
   "outputs": [
    {
     "name": "stdout",
     "output_type": "stream",
     "text": [
      "\n",
      "A specific date using timestamp:\n",
      "2016-11-10 00:00:00\n",
      "\n",
      "Date and time using timestamp:\n",
      "2012-05-03 11:30:00\n",
      "\n",
      "A time adds in the current local date using timestamp:\n",
      "2023-10-25 11:30:00\n",
      "\n",
      "Current date and time using timestamp:\n",
      "2023-10-25 16:35:01.261797\n"
     ]
    }
   ],
   "source": [
    "import pandas as pd\n",
    "#from datetime import datetime\n",
    "print(\"\\nA specific date using timestamp:\")\n",
    "print(pd.Timestamp('2016-11-10'))\n",
    "print(\"\\nDate and time using timestamp:\")\n",
    "print(pd.Timestamp('2012-05-03 11:30'))\n",
    "print(\"\\nA time adds in the current local date using timestamp:\")\n",
    "print(pd.Timestamp('11:30'))\n",
    "print(\"\\nCurrent date and time using timestamp:\")\n",
    "print(pd.Timestamp(\"now\"))"
   ]
  },
  {
   "cell_type": "markdown",
   "metadata": {},
   "source": [
    "\n",
    "3. Write a Pandas program to create a date from a given year, month, day and another date from a given string formats. <br>\n",
    "lick me to see the sample solution\n"
   ]
  },
  {
   "cell_type": "code",
   "execution_count": 3,
   "metadata": {},
   "outputs": [
    {
     "name": "stdout",
     "output_type": "stream",
     "text": [
      "Date from a given year, month, day:\n",
      "2020-12-25 00:00:00\n",
      "\n",
      "Date from a given string formats:\n",
      "2021-01-01 00:00:00\n"
     ]
    }
   ],
   "source": [
    "from datetime import datetime\n",
    "date1 = datetime(year=2020, month=12, day=25)\n",
    "print(\"Date from a given year, month, day:\")\n",
    "print(date1)\n",
    "from dateutil import parser\n",
    "date2 = parser.parse(\"1st of January, 2021\")\n",
    "print(\"\\nDate from a given string formats:\")\n",
    "print(date2)"
   ]
  },
  {
   "cell_type": "markdown",
   "metadata": {},
   "source": [
    "\n",
    "4. Write a Pandas program to print the day after and before a specified date. Also print the days between two given dates. <br>\n",
    "lick me to see the sample solution\n"
   ]
  },
  {
   "cell_type": "code",
   "execution_count": 4,
   "metadata": {},
   "outputs": [
    {
     "name": "stdout",
     "output_type": "stream",
     "text": [
      "Current date: 2012-10-30 00:00:00\n",
      "Tomorrow: 2012-10-31 00:00:00\n",
      "Yesterday: 2012-10-29 00:00:00\n",
      "\n",
      "Difference between two dates:  14 days, 0:00:00\n"
     ]
    }
   ],
   "source": [
    "import pandas as pd\n",
    "import datetime\n",
    "from datetime import datetime, date\n",
    "today = datetime(2012, 10, 30)\n",
    "print(\"Current date:\", today)\n",
    "tomorrow = today + pd.Timedelta(days=1)\n",
    "print(\"Tomorrow:\", tomorrow)\n",
    "yesterday = today - pd.Timedelta(days=1)\n",
    "print(\"Yesterday:\", yesterday)\n",
    "date1 = datetime(2016, 8, 2)\n",
    "date2 = datetime(2016, 7, 19)\n",
    "print(\"\\nDifference between two dates: \",(date1 - date2))"
   ]
  },
  {
   "cell_type": "markdown",
   "metadata": {},
   "source": [
    "\n",
    "5. Write a Pandas program to create a time-series with two index labels and random values. Also print the type of the index. <br>\n",
    "lick me to see the sample solution\n"
   ]
  },
  {
   "cell_type": "code",
   "execution_count": 5,
   "metadata": {},
   "outputs": [
    {
     "name": "stdout",
     "output_type": "stream",
     "text": [
      "Time-series with two index labels:\n",
      "2011-09-01    1.805793\n",
      "2011-09-02   -0.128507\n",
      "dtype: float64\n",
      "\n",
      "Type of the index:\n",
      "<class 'pandas.core.indexes.datetimes.DatetimeIndex'>\n"
     ]
    }
   ],
   "source": [
    "import pandas as pd\n",
    "import numpy as np\n",
    "import datetime\n",
    "from datetime import datetime, date\n",
    "dates = [datetime(2011, 9, 1), datetime(2011, 9, 2)]\n",
    "print(\"Time-series with two index labels:\")\n",
    "time_series = pd.Series(np.random.randn(2), dates)\n",
    "print(time_series)\n",
    "print(\"\\nType of the index:\")\n",
    "print(type(time_series.index))"
   ]
  },
  {
   "cell_type": "markdown",
   "metadata": {},
   "source": [
    "\n",
    "6. Write a Pandas program to create a time-series from a given list of dates as strings. <br>\n",
    "lick me to see the sample solution\n"
   ]
  },
  {
   "cell_type": "code",
   "execution_count": 6,
   "metadata": {},
   "outputs": [
    {
     "name": "stdout",
     "output_type": "stream",
     "text": [
      "2014-08-01   -1.220821\n",
      "2014-08-02    0.098760\n",
      "2014-08-03    0.956149\n",
      "2014-08-04    1.532456\n",
      "dtype: float64\n"
     ]
    }
   ],
   "source": [
    "import pandas as pd\n",
    "import numpy as np\n",
    "import datetime\n",
    "from datetime import datetime, date \n",
    "dates = ['2014-08-01','2014-08-02','2014-08-03','2014-08-04']\n",
    "time_series = pd.Series(np.random.randn(4), dates)\n",
    "print(time_series)"
   ]
  },
  {
   "cell_type": "markdown",
   "metadata": {},
   "source": [
    "\n",
    "7. Write a Pandas program to create a time series object that has time indexed data. Also select the dates of same year and select the dates between certain dates. <br>\n",
    "lick me to see the sample solution\n"
   ]
  },
  {
   "cell_type": "code",
   "execution_count": 7,
   "metadata": {},
   "outputs": [],
   "source": [
    "import pandas as pd\n",
    "index = pd.DatetimeIndex(['2011-09-02', '2012-08-04',\n",
    "                          '2015-09-03', '2010-08-04',\n",
    "                          '2015-03-03', '2011-08-04',\n",
    "                          '2015-04-03', '2012-08-04'])"
   ]
  },
  {
   "cell_type": "code",
   "execution_count": 8,
   "metadata": {},
   "outputs": [],
   "source": [
    "s_dates = pd.Series([0, 1, 2, 3, 4, 5, 6, 7], index=index)"
   ]
  },
  {
   "cell_type": "code",
   "execution_count": 9,
   "metadata": {},
   "outputs": [
    {
     "name": "stdout",
     "output_type": "stream",
     "text": [
      "Time series object with indexed data:\n",
      "2011-09-02    0\n",
      "2012-08-04    1\n",
      "2015-09-03    2\n",
      "2010-08-04    3\n",
      "2015-03-03    4\n",
      "2011-08-04    5\n",
      "2015-04-03    6\n",
      "2012-08-04    7\n",
      "dtype: int64\n",
      "\n",
      "Dates of same year:\n",
      "2015-09-03    2\n",
      "2015-03-03    4\n",
      "2015-04-03    6\n",
      "dtype: int64\n",
      "\n",
      "Dates between 2012-01-01 and 2012-12-31\n"
     ]
    },
    {
     "ename": "KeyError",
     "evalue": "'Value based partial slicing on non-monotonic DatetimeIndexes with non-existing keys is not allowed.'",
     "output_type": "error",
     "traceback": [
      "\u001b[0;31m---------------------------------------------------------------------------\u001b[0m",
      "\u001b[0;31mKeyError\u001b[0m                                  Traceback (most recent call last)",
      "\u001b[1;32m/home/dai/Documents/Data Analytics/Lab/Oct25/time.ipynb Cell 16\u001b[0m line \u001b[0;36m6\n\u001b[1;32m      <a href='vscode-notebook-cell:/home/dai/Documents/Data%20Analytics/Lab/Oct25/time.ipynb#X21sZmlsZQ%3D%3D?line=3'>4</a>\u001b[0m \u001b[39mprint\u001b[39m(s_dates[\u001b[39m'\u001b[39m\u001b[39m2015\u001b[39m\u001b[39m'\u001b[39m])\n\u001b[1;32m      <a href='vscode-notebook-cell:/home/dai/Documents/Data%20Analytics/Lab/Oct25/time.ipynb#X21sZmlsZQ%3D%3D?line=4'>5</a>\u001b[0m \u001b[39mprint\u001b[39m(\u001b[39m\"\u001b[39m\u001b[39m\\n\u001b[39;00m\u001b[39mDates between 2012-01-01 and 2012-12-31\u001b[39m\u001b[39m\"\u001b[39m)\n\u001b[0;32m----> <a href='vscode-notebook-cell:/home/dai/Documents/Data%20Analytics/Lab/Oct25/time.ipynb#X21sZmlsZQ%3D%3D?line=5'>6</a>\u001b[0m \u001b[39mprint\u001b[39m(s_dates[\u001b[39m'\u001b[39m\u001b[39m2012-01-01\u001b[39m\u001b[39m'\u001b[39m:\u001b[39m'\u001b[39m\u001b[39m2012-12-31\u001b[39m\u001b[39m'\u001b[39m])\n",
      "File \u001b[0;32m~/anaconda3/envs/scrapy/lib/python3.11/site-packages/pandas/core/series.py:1065\u001b[0m, in \u001b[0;36mSeries.__getitem__\u001b[0;34m(self, key)\u001b[0m\n\u001b[1;32m   1061\u001b[0m             \u001b[39mreturn\u001b[39;00m \u001b[39mself\u001b[39m\u001b[39m.\u001b[39m_get_values_tuple(key)\n\u001b[1;32m   1063\u001b[0m \u001b[39mif\u001b[39;00m \u001b[39misinstance\u001b[39m(key, \u001b[39mslice\u001b[39m):\n\u001b[1;32m   1064\u001b[0m     \u001b[39m# Do slice check before somewhat-costly is_bool_indexer\u001b[39;00m\n\u001b[0;32m-> 1065\u001b[0m     \u001b[39mreturn\u001b[39;00m \u001b[39mself\u001b[39m\u001b[39m.\u001b[39m_getitem_slice(key)\n\u001b[1;32m   1067\u001b[0m \u001b[39mif\u001b[39;00m com\u001b[39m.\u001b[39mis_bool_indexer(key):\n\u001b[1;32m   1068\u001b[0m     key \u001b[39m=\u001b[39m check_bool_indexer(\u001b[39mself\u001b[39m\u001b[39m.\u001b[39mindex, key)\n",
      "File \u001b[0;32m~/anaconda3/envs/scrapy/lib/python3.11/site-packages/pandas/core/generic.py:4284\u001b[0m, in \u001b[0;36mNDFrame._getitem_slice\u001b[0;34m(self, key)\u001b[0m\n\u001b[1;32m   4279\u001b[0m \u001b[39m\u001b[39m\u001b[39m\"\"\"\u001b[39;00m\n\u001b[1;32m   4280\u001b[0m \u001b[39m__getitem__ for the case where the key is a slice object.\u001b[39;00m\n\u001b[1;32m   4281\u001b[0m \u001b[39m\"\"\"\u001b[39;00m\n\u001b[1;32m   4282\u001b[0m \u001b[39m# _convert_slice_indexer to determine if this slice is positional\u001b[39;00m\n\u001b[1;32m   4283\u001b[0m \u001b[39m#  or label based, and if the latter, convert to positional\u001b[39;00m\n\u001b[0;32m-> 4284\u001b[0m slobj \u001b[39m=\u001b[39m \u001b[39mself\u001b[39m\u001b[39m.\u001b[39mindex\u001b[39m.\u001b[39m_convert_slice_indexer(key, kind\u001b[39m=\u001b[39m\u001b[39m\"\u001b[39m\u001b[39mgetitem\u001b[39m\u001b[39m\"\u001b[39m)\n\u001b[1;32m   4285\u001b[0m \u001b[39mif\u001b[39;00m \u001b[39misinstance\u001b[39m(slobj, np\u001b[39m.\u001b[39mndarray):\n\u001b[1;32m   4286\u001b[0m     \u001b[39m# reachable with DatetimeIndex\u001b[39;00m\n\u001b[1;32m   4287\u001b[0m     indexer \u001b[39m=\u001b[39m lib\u001b[39m.\u001b[39mmaybe_indices_to_slice(\n\u001b[1;32m   4288\u001b[0m         slobj\u001b[39m.\u001b[39mastype(np\u001b[39m.\u001b[39mintp, copy\u001b[39m=\u001b[39m\u001b[39mFalse\u001b[39;00m), \u001b[39mlen\u001b[39m(\u001b[39mself\u001b[39m)\n\u001b[1;32m   4289\u001b[0m     )\n",
      "File \u001b[0;32m~/anaconda3/envs/scrapy/lib/python3.11/site-packages/pandas/core/indexes/base.py:4285\u001b[0m, in \u001b[0;36mIndex._convert_slice_indexer\u001b[0;34m(self, key, kind)\u001b[0m\n\u001b[1;32m   4283\u001b[0m     indexer \u001b[39m=\u001b[39m key\n\u001b[1;32m   4284\u001b[0m \u001b[39melse\u001b[39;00m:\n\u001b[0;32m-> 4285\u001b[0m     indexer \u001b[39m=\u001b[39m \u001b[39mself\u001b[39m\u001b[39m.\u001b[39mslice_indexer(start, stop, step)\n\u001b[1;32m   4287\u001b[0m \u001b[39mreturn\u001b[39;00m indexer\n",
      "File \u001b[0;32m~/anaconda3/envs/scrapy/lib/python3.11/site-packages/pandas/core/indexes/datetimes.py:698\u001b[0m, in \u001b[0;36mDatetimeIndex.slice_indexer\u001b[0;34m(self, start, end, step)\u001b[0m\n\u001b[1;32m    695\u001b[0m     in_index \u001b[39m&\u001b[39m\u001b[39m=\u001b[39m (end_casted \u001b[39m==\u001b[39m \u001b[39mself\u001b[39m)\u001b[39m.\u001b[39many()\n\u001b[1;32m    697\u001b[0m \u001b[39mif\u001b[39;00m \u001b[39mnot\u001b[39;00m in_index:\n\u001b[0;32m--> 698\u001b[0m     \u001b[39mraise\u001b[39;00m \u001b[39mKeyError\u001b[39;00m(\n\u001b[1;32m    699\u001b[0m         \u001b[39m\"\u001b[39m\u001b[39mValue based partial slicing on non-monotonic DatetimeIndexes \u001b[39m\u001b[39m\"\u001b[39m\n\u001b[1;32m    700\u001b[0m         \u001b[39m\"\u001b[39m\u001b[39mwith non-existing keys is not allowed.\u001b[39m\u001b[39m\"\u001b[39m,\n\u001b[1;32m    701\u001b[0m     )\n\u001b[1;32m    702\u001b[0m indexer \u001b[39m=\u001b[39m mask\u001b[39m.\u001b[39mnonzero()[\u001b[39m0\u001b[39m][::step]\n\u001b[1;32m    703\u001b[0m \u001b[39mif\u001b[39;00m \u001b[39mlen\u001b[39m(indexer) \u001b[39m==\u001b[39m \u001b[39mlen\u001b[39m(\u001b[39mself\u001b[39m):\n",
      "\u001b[0;31mKeyError\u001b[0m: 'Value based partial slicing on non-monotonic DatetimeIndexes with non-existing keys is not allowed.'"
     ]
    }
   ],
   "source": [
    "print(\"Time series object with indexed data:\")\n",
    "print(s_dates)\n",
    "print(\"\\nDates of same year:\")\n",
    "print(s_dates['2015'])\n",
    "print(\"\\nDates between 2012-01-01 and 2012-12-31\")\n",
    "print(s_dates['2012-01-01':'2012-12-31']) "
   ]
  },
  {
   "cell_type": "markdown",
   "metadata": {},
   "source": [
    "\n",
    "8. Write a Pandas program to create a date range using a startpoint date and a number of periods. <br>\n",
    "lick me to see the sample solution\n"
   ]
  },
  {
   "cell_type": "code",
   "execution_count": null,
   "metadata": {},
   "outputs": [],
   "source": [
    "import pandas as pd\n",
    "date_range = pd.date_range('2020-01-01', periods=45)\n",
    "print(\"Date range of perods 45:\")\n",
    "print(date_range)"
   ]
  },
  {
   "cell_type": "markdown",
   "metadata": {},
   "source": [
    "\n",
    "9. Write a Pandas program to create a whole month of dates in daily frequencies. Also find the maximum, minimum timestamp and indexs. <br>\n",
    "lick me to see the sample solution\n"
   ]
  },
  {
   "cell_type": "code",
   "execution_count": null,
   "metadata": {},
   "outputs": [],
   "source": [
    "import pandas as pd\n",
    "dates = pd.Series(pd.date_range('2020-12-01',periods=31, freq='D'))\n",
    "print(\"Month of December 2020:\")\n",
    "print(dates)\n",
    "dates = pd.Series(pd.date_range('2020-12-01',periods=31, freq='D'))\n",
    "print(\"\\nMaximum date: \", dates.max())\n",
    "print(\"Minimum date: \", dates.min())\n",
    "print(\"Maximum index: \", dates.idxmax())\n",
    "print(\"Minimum index: \", dates.idxmin())"
   ]
  },
  {
   "cell_type": "markdown",
   "metadata": {},
   "source": [
    "\n",
    "10. Write a Pandas program to create a time series using three months frequency. <br>\n",
    "lick me to see the sample solution\n"
   ]
  },
  {
   "cell_type": "code",
   "execution_count": null,
   "metadata": {},
   "outputs": [],
   "source": [
    "import pandas as pd\n",
    "time_series = pd.date_range('1/1/2021', periods = 36, freq='3M')\n",
    "print(\"Time series using three months frequency:\")\n",
    "print(time_series) "
   ]
  },
  {
   "cell_type": "markdown",
   "metadata": {},
   "source": [
    "\n",
    "11. Write a Pandas program to create a sequence of durations increasing by an hour. <br>\n",
    "lick me to see the sample solution\n"
   ]
  },
  {
   "cell_type": "code",
   "execution_count": null,
   "metadata": {},
   "outputs": [],
   "source": [
    "import pandas as pd\n",
    "date_range = pd.timedelta_range(0, periods=49, freq='H')\n",
    "print(\"Hourly range of perods 49:\")\n",
    "print(date_range)"
   ]
  },
  {
   "cell_type": "markdown",
   "metadata": {},
   "source": [
    "\n",
    "12. Write a Pandas program to convert year and day of year into a single datetime column of a dataframe.<br>\n",
    "lick me to see the sample solution\n"
   ]
  },
  {
   "cell_type": "code",
   "execution_count": null,
   "metadata": {},
   "outputs": [],
   "source": [
    "import pandas as pd\n",
    "data = {\\\n",
    "\"year\": [2002, 2003, 2015, 2018],\n",
    "\"day_of_the_year\": [250, 365, 1, 140]\n",
    "}\n",
    "df = pd.DataFrame(data)\n",
    "print(\"Original DataFrame:\")\n",
    "print(df)\n",
    "df[\"combined\"] = df[\"year\"]*1000 + df[\"day_of_the_year\"]\n",
    "df[\"date\"] = pd.to_datetime(df[\"combined\"], format = \"%Y%j\")\n",
    "print(\"\\nNew DataFrame:\")\n",
    "print(df)"
   ]
  },
  {
   "cell_type": "markdown",
   "metadata": {},
   "source": [
    "\n",
    "13. Write a Pandas program to create a series of Timestamps from a DataFrame of integer or string columns. Also create a series of Timestamps using specified columns. <br>\n",
    "lick me to see the sample solution\n"
   ]
  },
  {
   "cell_type": "code",
   "execution_count": null,
   "metadata": {},
   "outputs": [],
   "source": [
    "import pandas as pd\n",
    "df = pd.DataFrame({'year': [2018, 2019, 2020],\n",
    "                   'month': [2, 3, 4],\n",
    "                   'day': [4, 5, 6],\n",
    "                   'hour': [2, 3, 4]})\n",
    "print(\"Original dataframe:\")\n",
    "print(df)\n",
    "result = pd.to_datetime(df)\n",
    "print(\"\\nSeries of Timestamps from the said dataframe:\")\n",
    "print(result)\n",
    "print(\"\\nSeries of Timestamps using specified columns:\")\n",
    "print(pd.to_datetime(df[['year', 'month', 'day']]))"
   ]
  },
  {
   "cell_type": "markdown",
   "metadata": {},
   "source": [
    "\n",
    "14. Write a Pandas program to check if a day is a business day (weekday) or not. <br>\n",
    "lick me to see the sample solution\n"
   ]
  },
  {
   "cell_type": "code",
   "execution_count": null,
   "metadata": {},
   "outputs": [],
   "source": [
    "import pandas as pd\n",
    "def is_business_day(date):\n",
    "    return bool(len(pd.bdate_range(date, date)))\n",
    "print(\"Check busines day or not?\")\n",
    "print('2020-12-01: ',is_business_day('2020-12-01'))\n",
    "print('2020-12-06: ',is_business_day('2020-12-06'))\n",
    "print('2020-12-07: ',is_business_day('2020-12-07'))\n",
    "print('2020-12-08: ',is_business_day('2020-12-08'))"
   ]
  },
  {
   "cell_type": "markdown",
   "metadata": {},
   "source": [
    "\n",
    "15. Write a Pandas program to get a time series with the last working days of each month of a specific year. <br>\n",
    "lick me to see the sample solution\n"
   ]
  },
  {
   "cell_type": "code",
   "execution_count": null,
   "metadata": {},
   "outputs": [],
   "source": [
    "import pandas as pd\n",
    "s = pd.date_range('2021-01-01', periods=12, freq='BM')\n",
    "df = pd.DataFrame(s, columns=['Date'])\n",
    "print('last working days of each month of a specific year:')\n",
    "print(df)"
   ]
  },
  {
   "cell_type": "markdown",
   "metadata": {},
   "source": [
    "\n",
    "16. Write a Pandas program to create a time series combining hour and minute. <br>\n",
    "lick me to see the sample solution\n"
   ]
  },
  {
   "cell_type": "code",
   "execution_count": null,
   "metadata": {},
   "outputs": [],
   "source": [
    "import pandas as pd\n",
    "result = pd.timedelta_range(0, periods=30, freq=\"1H20T\")\n",
    "print(\"For a frequency of 1 hours 20 minutes, here we have combined the hour (H) and minute (T):\\n\")\n",
    "print(result)"
   ]
  },
  {
   "cell_type": "markdown",
   "metadata": {},
   "source": [
    "\n",
    "17. Write a Pandas program to convert unix/epoch time to a regular time stamp in UTC. Also convert the said timestamp in to a given time zone. <br>\n",
    "lick me to see the sample solution\n"
   ]
  },
  {
   "cell_type": "code",
   "execution_count": null,
   "metadata": {},
   "outputs": [],
   "source": [
    "import pandas as pd\n",
    "epoch_t = 1621132355\n",
    "time_stamp = pd.to_datetime(epoch_t, unit='s')\n",
    "# UTC (Coordinated Universal Time) is one of the well-known names of UTC+0 time zone which is 0h.\n",
    "# By default, time series objects of pandas do not have an assigned time zone.\n",
    "print(\"Regular time stamp in UTC:\")\n",
    "print(time_stamp)\n",
    "print(\"\\nConvert the said timestamp in to US/Pacific:\")\n",
    "print(time_stamp.tz_localize('UTC').tz_convert('US/Pacific'))\n",
    "print(\"\\nConvert the said timestamp in to Europe/Berlin:\")\n",
    "print(time_stamp.tz_localize('UTC').tz_convert('Europe/Berlin'))"
   ]
  },
  {
   "cell_type": "markdown",
   "metadata": {},
   "source": [
    "\n",
    "18. Write a Pandas program to create a time series object with a time zone. <br>\n",
    "lick me to see the sample solution\n"
   ]
  },
  {
   "cell_type": "code",
   "execution_count": null,
   "metadata": {},
   "outputs": [],
   "source": [
    "import pandas as pd\n",
    "print(\"Timezone: Europe/Berlin:\")\n",
    "print(\"Using pytz:\")\n",
    "date_pytz = pd.Timestamp('2019-01-01', tz = 'Europe/Berlin')\n",
    "print(date_pytz.tz)  \n",
    "print(\"Using dateutil:\")\n",
    "date_util = pd.Timestamp('2019-01-01', tz = 'dateutil/Europe/Berlin')\n",
    "print(date_util.tz)\n",
    "print(\"\\nUS/Pacific:\")\n",
    "print(\"Using pytz:\")\n",
    "date_pytz = pd.Timestamp('2019-01-01', tz = 'US/Pacific')\n",
    "print(date_pytz.tz)  \n",
    "print(\"Using dateutil:\")\n",
    "date_util = pd.Timestamp('2019-01-01', tz = 'dateutil/US/Pacific')\n",
    "print(date_util.tz)"
   ]
  },
  {
   "cell_type": "markdown",
   "metadata": {},
   "source": [
    "\n",
    "19. Write a Pandas program to remove the time zone information from a Time series data. <br>\n",
    "lick me to see the sample solution\n"
   ]
  },
  {
   "cell_type": "code",
   "execution_count": null,
   "metadata": {},
   "outputs": [],
   "source": [
    "import pandas as pd\n",
    "date1 = pd.Timestamp('2019-01-01', tz='Europe/Berlin')\n",
    "date2 = pd.Timestamp('2019-01-01', tz='US/Pacific')\n",
    "date3 = pd.Timestamp('2019-01-01', tz='US/Eastern')\n",
    "print(\"Time series data with time zone:\")\n",
    "print(date1)\n",
    "print(date2)\n",
    "print(date3)\n",
    "print(\"\\nTime series data without time zone:\")\n",
    "print(date1.tz_localize(None))\n",
    "print(date2.tz_localize(None))\n",
    "print(date3.tz_localize(None))"
   ]
  },
  {
   "cell_type": "markdown",
   "metadata": {},
   "source": [
    "\n",
    "20. Write a Pandas program to subtract two timestamps of same time zone or different time zone. <br>\n",
    "lick me to see the sample solution\n"
   ]
  },
  {
   "cell_type": "code",
   "execution_count": null,
   "metadata": {},
   "outputs": [],
   "source": [
    "import pandas as pd\n",
    "print(\"Subtract two timestamps of same time zone:\")\n",
    "date1 = pd.Timestamp('2019-03-01 12:00', tz='US/Eastern')\n",
    "date2 = pd.Timestamp('2019-04-01 07:00', tz='US/Eastern')\n",
    "print(\"Difference: \", (date2-date1))\n",
    "print(\"\\nSubtract two timestamps of different time zone:\")\n",
    "date1 = pd.Timestamp('2019-03-01 12:00', tz='US/Eastern')\n",
    "date2 = pd.Timestamp('2019-03-01 07:00', tz='US/Pacific')\n",
    "# Remove the time zone and do the subtraction\n",
    "print(\"Difference: \", (date1.tz_localize(None) - date2.tz_localize(None)))"
   ]
  },
  {
   "cell_type": "markdown",
   "metadata": {},
   "source": [
    "\n",
    "21. Write a Pandas program to calculate all Thursdays between two given days. <br>\n",
    "lick me to see the sample solution\n"
   ]
  },
  {
   "cell_type": "code",
   "execution_count": null,
   "metadata": {},
   "outputs": [],
   "source": [
    "import pandas as pd\n",
    "thursdays  = pd.date_range('2020-01-01', \n",
    "                           '2020-12-31', freq=\"W-THU\")\n",
    "print(\"All Thursdays between 2020-01-01 and 2020-12-31:\\n\")\n",
    "print(thursdays.values)"
   ]
  },
  {
   "cell_type": "markdown",
   "metadata": {},
   "source": [
    "\n",
    "22. Write a Pandas program to find the all the business quarterly begin and end dates of a specified year. <br>\n",
    "lick me to see the sample solution\n"
   ]
  },
  {
   "cell_type": "code",
   "execution_count": null,
   "metadata": {},
   "outputs": [],
   "source": [
    "import pandas as pd\n",
    "q_start_dates = pd.date_range('2020-01-01', '2020-12-31', freq='BQS-JUN')\n",
    "q_end_dates = pd.date_range('2020-01-01', '2020-12-31', freq='BQ-JUN')\n",
    "print(\"All the business quarterly begin dates of 2020:\")\n",
    "print(q_start_dates.values)\n",
    "print(\"\\nAll the business quarterly end dates of 2020:\")\n",
    "print(q_end_dates.values)"
   ]
  },
  {
   "cell_type": "markdown",
   "metadata": {},
   "source": [
    "\n",
    "23. Write a Pandas program to generate sequences of fixed-frequency dates and time spans intervals. <br>\n",
    "lick me to see the sample solution\n"
   ]
  },
  {
   "cell_type": "code",
   "execution_count": null,
   "metadata": {},
   "outputs": [],
   "source": [
    "import pandas as pd\n",
    "print(\"Sequences of fixed-frequency dates and time spans (1 H):\\n\")\n",
    "r1 = pd.date_range('2030-01-01', periods=10, freq='H')\n",
    "print(r1)\n",
    "print(\"\\nSequences of fixed-frequency dates and time spans (3 H):\\n\")\n",
    "r2 = pd.date_range('2030-01-01', periods=10, freq='3H')\n",
    "print(r2)"
   ]
  },
  {
   "cell_type": "markdown",
   "metadata": {},
   "source": [
    "\n",
    "24. Write a Pandas program to generate time series combining day and intraday offsets intervals. <br>\n",
    "lick me to see the sample solution\n"
   ]
  },
  {
   "cell_type": "code",
   "execution_count": null,
   "metadata": {},
   "outputs": [],
   "source": [
    "import pandas as pd\n",
    "dateset1 = pd.date_range('2029-01-01 00:00:00', periods=20, freq='3h10min')\n",
    "print(\"Time series with frequency 3h10min:\")\n",
    "print(dateset1)\n",
    "dateset2 = pd.date_range('2029-01-01 00:00:00', periods=20, freq='1D10min20U')\n",
    "print(\"\\nTime series with frequency 1 day 10 minutes and 20 microseconds:\")\n",
    "print(dateset2)"
   ]
  },
  {
   "cell_type": "markdown",
   "metadata": {},
   "source": [
    "\n",
    "25. Write a Pandas program to extract the day name from a specified date. Add 2 days and 1 business day with the specified date. <br>\n",
    "lick me to see the sample solution\n"
   ]
  },
  {
   "cell_type": "code",
   "execution_count": null,
   "metadata": {},
   "outputs": [],
   "source": [
    "import pandas as pd\n",
    "newday = pd.Timestamp('2020-02-07')\n",
    "print(\"First date:\")\n",
    "print(newday)\n",
    "print(\"\\nThe day name of the said date:\")\n",
    "print(newday.day_name())\n",
    "print(\"\\nAdd 2 days with the said date:\")\n",
    "newday1 = newday + pd.Timedelta('2 day')\n",
    "print(newday1.day_name())\n",
    "print(\"\\nNext business day:\")\n",
    "nbday = newday + pd.offsets.BDay()\n",
    "print(nbday.day_name())"
   ]
  },
  {
   "cell_type": "markdown",
   "metadata": {},
   "source": [
    "\n",
    "26. Write a Pandas program to convert integer or float epoch times to Timestamp and DatetimeIndex. <br>\n",
    "lick me to see the sample solution\n"
   ]
  },
  {
   "cell_type": "code",
   "execution_count": null,
   "metadata": {},
   "outputs": [],
   "source": [
    "import pandas as pd\n",
    "dates1 = pd.to_datetime([1329806505, 129806505, 1249892905,\n",
    "                1249979305, 1250065705], unit='s')\n",
    "print(\"Convert integer or float epoch times to Timestamp and DatetimeIndex upto second:\")\n",
    "print(dates1)\n",
    "print(\"\\nConvert integer or float epoch times to Timestamp and DatetimeIndex upto milisecond:\")\n",
    "dates2 = pd.to_datetime([1249720105100, 1249720105200, 1249720105300,\n",
    "                1249720105400, 1249720105500], unit='ms')\n",
    "print(dates2)"
   ]
  },
  {
   "cell_type": "markdown",
   "metadata": {},
   "source": [
    "\n",
    "27. Write a Pandas program to calculate one, two, three business day(s) from a specified date. Also find the next business month end from a specific date. <br>\n",
    "lick me to see the sample solution\n"
   ]
  },
  {
   "cell_type": "code",
   "execution_count": null,
   "metadata": {},
   "outputs": [],
   "source": [
    "import pandas as pd\n",
    "from pandas.tseries.offsets import *\n",
    "import datetime\n",
    "from datetime import datetime, date\n",
    "dt = datetime(2020, 1, 4)\n",
    "print(\"Specified date:\")\n",
    "print(dt)\n",
    "print(\"\\nOne business day from the said date:\")\n",
    "obday = dt + BusinessDay()\n",
    "print(obday)\n",
    "print(\"\\nTwo business days from the said date:\")\n",
    "tbday = dt + 2 * BusinessDay()\n",
    "print(tbday)\n",
    "print(\"\\nThree business days from the said date:\")\n",
    "thbday = dt + 3 * BusinessDay()\n",
    "print(thbday)\n",
    "print(\"\\nNext business month end from the said date:\")\n",
    "nbday = dt + BMonthEnd()\n",
    "print(nbday)"
   ]
  },
  {
   "cell_type": "markdown",
   "metadata": {},
   "source": [
    "\n",
    "28. Write a Pandas program to create a period index represent all monthly boundaries of a given year. Also print start and end time for each period object in the said index. <br>\n",
    "lick me to see the sample solution\n"
   ]
  },
  {
   "cell_type": "code",
   "execution_count": null,
   "metadata": {},
   "outputs": [],
   "source": [
    "import pandas as pd\n",
    "import datetime\n",
    "from datetime import datetime, date\n",
    "sdt = datetime(2020, 1, 1)\n",
    "edt = datetime(2020, 12, 31)\n",
    "dateset = pd.period_range(sdt, edt, freq='M')\n",
    "print(\"All monthly boundaries of a given year:\")\n",
    "print(dateset) \n",
    "print(\"\\nStart and end time for each period object in the said index:\")\n",
    "for d in dateset: \n",
    "    print (\"{0} {1}\".format(d.start_time, d.end_time)) "
   ]
  },
  {
   "cell_type": "markdown",
   "metadata": {},
   "source": [
    "\n",
    "29. Write a Pandas program create a series with a PeriodIndex which represents all the calendar month periods in 2029 and 2031. Also print the values for all periods in 2030. <br>\n",
    "Note: PeriodIndex is an immutable ndarray holding ordinal values indicating regular periods in time such as particular years, quarters, months, etc.<br>\n",
    "lick me to see the sample solution\n"
   ]
  },
  {
   "cell_type": "code",
   "execution_count": null,
   "metadata": {},
   "outputs": [],
   "source": [
    "import pandas as pd\n",
    "import numpy as np\n",
    "pi = pd.Series(np.random.randn(36), \n",
    "               pd.period_range('1/1/2029', \n",
    "                               '12/31/2031', freq='M'))\n",
    "print(\"PeriodIndex which represents all the calendar month periods in 2029 and 2030:\")\n",
    "print(pi)\n",
    "print(\"\\nValues for all periods in 2030:\")\n",
    "print(pi['2030'])"
   ]
  },
  {
   "cell_type": "markdown",
   "metadata": {},
   "source": [
    "\n",
    "30. Write a Pandas program to generate holidays between two dates using the US federal holiday calendar. <br>\n",
    "lick me to see the sample solution\n"
   ]
  },
  {
   "cell_type": "code",
   "execution_count": null,
   "metadata": {},
   "outputs": [],
   "source": [
    "import pandas as pd\n",
    "from pandas.tseries.holiday import *\n",
    "sdt = datetime(2021, 1, 1)\n",
    "edt = datetime(2030, 12, 31)\n",
    "print(\"Holidays between 2021-01-01 and 2030-12-31 using the US federal holiday calendar.\")\n",
    "cal = USFederalHolidayCalendar()\n",
    "for dt in cal.holidays(start=sdt, end=edt): \n",
    "    print (dt)"
   ]
  },
  {
   "cell_type": "markdown",
   "metadata": {},
   "source": [
    "\n",
    "31. Write a Pandas program to create a monthly time period and display the list of names in the current local scope. <br>\n",
    "lick me to see the sample solution\n"
   ]
  },
  {
   "cell_type": "code",
   "execution_count": null,
   "metadata": {},
   "outputs": [],
   "source": [
    "import pandas as pd\n",
    "mtp = pd.Period('2021-11','M')\n",
    "print(\"Monthly time perid: \",mtp)\n",
    "print(\"\\nList of names in the current local scope:\")\n",
    "print(dir(mtp)) "
   ]
  },
  {
   "cell_type": "markdown",
   "metadata": {},
   "source": [
    "\n",
    "32. Write a Pandas program to create a yearly time period from a specified year and display the properties of this period. <br>\n",
    "lick me to see the sample solution\n"
   ]
  },
  {
   "cell_type": "code",
   "execution_count": null,
   "metadata": {},
   "outputs": [],
   "source": [
    "import pandas as pd\n",
    "ytp = pd.Period('2020','A-DEC')\n",
    "print(\"Yearly time perid:\",ytp)\n",
    "print(\"\\nAll the properties of the said period:\")\n",
    "print(dir(ytp))"
   ]
  }
 ],
 "metadata": {
  "kernelspec": {
   "display_name": "Python 3",
   "language": "python",
   "name": "python3"
  },
  "language_info": {
   "codemirror_mode": {
    "name": "ipython",
    "version": 3
   },
   "file_extension": ".py",
   "mimetype": "text/x-python",
   "name": "python",
   "nbconvert_exporter": "python",
   "pygments_lexer": "ipython3",
   "version": "3.11.5"
  }
 },
 "nbformat": 4,
 "nbformat_minor": 2
}
