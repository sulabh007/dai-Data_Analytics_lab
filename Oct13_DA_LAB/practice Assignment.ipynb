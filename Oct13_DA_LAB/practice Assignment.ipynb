{
 "cells": [
  {
   "cell_type": "markdown",
   "metadata": {},
   "source": [
    "Q1\n",
    "1. Create two CSV file with three columns viz. Tom, Brick, Harry with index ‘True’ and ‘False’.\n",
    "Each column must contain at least ten values each as a combination of datatypes.\n",
    "2. Create a data frame with at least 5 columns and 10 rows. There must be some missing\n",
    "values in it. If the integer column contains missing values replace it with some statistical\n",
    "approach. Also, if there is any missing values in String column, drop the rows using some\n",
    "looping function.\n",
    "3. Create a data frame with at least 5 columns and 10 rows. Each column must contain only\n",
    "integer elements only. Column names must be Abilash, Ankit, Ashok, Asif, Anjaan. Now\n",
    "apply a function where we want to club together the data based on any row or column.\n",
    "Group the series using a mapper or by a series of columns.\n",
    "4. Read the CountryDataIND.csv file and perform statistical operation on the same about the\n",
    "dataset. Look for any missing data if any.\n",
    "5. Plot a histogram by keeping the bin size to 10 for the column name = ‘Observation Value’.\n",
    "Also Plot a scatter plot between ‘observation Value’ and ‘Time Period’"
   ]
  },
  {
   "cell_type": "code",
   "execution_count": 1,
   "metadata": {},
   "outputs": [],
   "source": [
    "import numpy as np\n",
    "import pandas as pd\n",
    "import matplotlib.pyplot as plt\n",
    "import seaborn as sns"
   ]
  },
  {
   "cell_type": "code",
   "execution_count": 7,
   "metadata": {},
   "outputs": [],
   "source": [
    "\n",
    "tomlst = [1, 2, 2.2, 3.5, 'Tom', True, np.NaN, 55, 55.6, 25]\n",
    "bricklst = [1, 2, 2.2, 3.5, 'Brick', False, np.NaN, 55, 55.6, 25]\n",
    "harrylst = [1, 2, 2.2, 3.5, 'Harry', True, np.NaN, 55, 55.6, 25]\n",
    "\n",
    "df = pd.DataFrame({'Tom':tomlst, \"Brick\":bricklst, \"Harry\":harrylst})\n",
    "\n",
    "df.to_csv('Noindex.csv', index=False)\n",
    "df.to_csv('withindex.csv')"
   ]
  },
  {
   "cell_type": "markdown",
   "metadata": {},
   "source": [
    "2. Create a data frame with at least 5 columns and 10 rows. There must be some missing\n",
    "values in it. If the integer column contains missing values replace it with some statistical\n",
    "approach. Also, if there is any missing values in String column, drop the rows using some\n",
    "looping function."
   ]
  },
  {
   "cell_type": "code",
   "execution_count": 64,
   "metadata": {},
   "outputs": [],
   "source": [
    "\"\"\" data = pd.read_csv('purchase_data.csv', index_col=False)\n",
    "data= data[:10]\n",
    "data.drop(columns=['SN','Item ID'], inplace=True)\n",
    "data.to_csv('q2.csv', index=False) \"\"\"\n",
    "\n",
    "data=pd.read_csv('q2.csv')\n",
    "data['Age'].fillna(data['Age'].mode()[0],inplace=True)\n",
    "data['Price'].fillna(data['Price'].mean(),inplace=True)\n",
    "for i in range(len(data['Item Name'])):\n",
    "    if type(data['Item Name'][i])==float:\n",
    "        data.drop(i, inplace=True)\n",
    "\n",
    "\n"
   ]
  },
  {
   "cell_type": "markdown",
   "metadata": {},
   "source": [
    "3. Create a data frame with at least 5 columns and 10 rows. Each column must contain only integer elements only. Column names must be Abilash, Ankit, Ashok, Asif, Anjaan. Now apply a function where we want to club together the data based on any row or column. Group the series using a mapper or by a series of columns."
   ]
  },
  {
   "cell_type": "code",
   "execution_count": 185,
   "metadata": {},
   "outputs": [],
   "source": [
    "Abilashlist= np.random.randint(0,100,size=10)\n",
    "Ankitlist = np.random.randint(0,100,size=10)\n",
    "Ashoklist = np.random.randint(0,100,size=10)\n",
    "Asiflist = np.random.randint(0,100,size=10)\n",
    "Anjaanlist = np.random.randint(0,100,size=10)\n",
    "\n",
    "df = pd.DataFrame({'Abilash':Abilashlist, \"Ankit\":Ankitlist, \"Ashok\":Ashoklist,\"Asif\":Asiflist, \"Anjaan\":Anjaanlist })\n",
    "\n",
    "df['newcolumn'] = df[\"Abilash\"] + df[\"Anjaan\"]"
   ]
  },
  {
   "cell_type": "markdown",
   "metadata": {},
   "source": [
    "4. Read the CountryDataIND.csv file and perform statistical operation on the same about the dataset. Look for any missing data if any."
   ]
  },
  {
   "cell_type": "code",
   "execution_count": 175,
   "metadata": {},
   "outputs": [],
   "source": [
    "countrydata = pd.read_csv('CountryDataIND.csv')\n",
    "countrydata.drop(columns=['Footnotes','Time period details','Unit multiplier','Reference Area','Frequency','Source type','Location','Nature of data points'],inplace=True)\n",
    "\n",
    "countrydata['Source details'].fillna('Unknown',inplace=True)\n",
    "\n"
   ]
  },
  {
   "cell_type": "code",
   "execution_count": 186,
   "metadata": {},
   "outputs": [
    {
     "data": {
      "text/plain": [
       "(array([-100.,    0.,  100.,  200.,  300.,  400.,  500.,  600.]),\n",
       " [Text(-100.0, 0, '−100'),\n",
       "  Text(0.0, 0, '0'),\n",
       "  Text(100.0, 0, '100'),\n",
       "  Text(200.0, 0, '200'),\n",
       "  Text(300.0, 0, '300'),\n",
       "  Text(400.0, 0, '400'),\n",
       "  Text(500.0, 0, '500'),\n",
       "  Text(600.0, 0, '600')])"
      ]
     },
     "execution_count": 186,
     "metadata": {},
     "output_type": "execute_result"
    },
    {
     "data": {
      "image/png": "[encoded data removed]",
      "text/plain": [
       "<Figure size 1000x600 with 1 Axes>"
      ]
     },
     "metadata": {},
     "output_type": "display_data"
    }
   ],
   "source": [
    "plt.figure(figsize=(10,6))\n",
    "plt.hist(x=countrydata['Observation Value'], label=countrydata['Series'], bins=10)\n",
    "plt.xticks(rotation = 30)"
   ]
  },
  {
   "cell_type": "markdown",
   "metadata": {},
   "source": [
    "5. Plot a histogram by keeping the bin size to 10 for the column name = ‘Observation Value’. Also Plot a scatter plot between ‘observation Value’ and ‘Time Period’"
   ]
  },
  {
   "cell_type": "code",
   "execution_count": 184,
   "metadata": {},
   "outputs": [
    {
     "data": {
      "text/plain": [
       "<matplotlib.collections.PathCollection at 0x7fc4e0eb0610>"
      ]
     },
     "execution_count": 184,
     "metadata": {},
     "output_type": "execute_result"
    },
    {
     "data": {
      "image/png": "[encoded data removed]",
      "text/plain": [
       "<Figure size 640x480 with 1 Axes>"
      ]
     },
     "metadata": {},
     "output_type": "display_data"
    }
   ],
   "source": [
    "data = countrydata.groupby(['Series'])['Observation Value']\n",
    "colorlst=['blue', 'green', 'red','yellow', 'orange', 'grey', 'purple', 'black', 'violet']\n",
    "plt.scatter(x=countrydata['Time period'], y=countrydata['Observation Value'])"
   ]
  },
  {
   "cell_type": "markdown",
   "metadata": {},
   "source": [
    "Q2\n",
    "Suppose you have landed to a job and the first task you’ve assigned to prepare a report which\n",
    "includes the following:\n",
    "1. Player Count\n",
    "o Total Number of Players\n",
    "2. Purchasing Analysis (Total)\n",
    "o Number of Unique Items\n",
    "o Average Purchase Price\n",
    "o Total Number of Purchases\n",
    "o Total Revenue\n",
    "3. Gender Demographics\n",
    "o Percentage and Count of Male Players\n",
    "o Percentage and Count of Female Players\n",
    "o Percentage and Count of Other / Non-Disclosed\n",
    "4. Purchasing Analysis (Gender)\n",
    "o The below each broken by gender\n",
    " Purchase Count\n",
    " Average Purchase Price\n",
    " Total Purchase Value\n",
    " Average Purchase Total per Person by Gender\n",
    "\n",
    "5. Age Demographics\n",
    "o The below each broken into bins of 4 years (i.e. <10, 10-14, 15-19, etc.)\n",
    " Purchase Count\n",
    " Average Purchase Price\n",
    " Total Purchase Value\n",
    " Average Purchase Total per Person by Age Group\n",
    "\n",
    "6. Top Spenders\n",
    "o Identify the the top 5 spenders in the game by total purchase value, then list (in a\n",
    "table):\n",
    "\n",
    " SN\n",
    " Purchase Count\n",
    " Average Purchase Price\n",
    " Total Purchase Value\n",
    "\n",
    "7. Most Popular Items\n",
    "o Identify the 5 most popular items by purchase count, then list (in a table):\n",
    " Item ID\n",
    " Item Name\n",
    " Purchase Count\n",
    " Item Price\n",
    " Total Purchase Value\n",
    "\n",
    "8. Most Profitable Items\n",
    "o the 5 most profitable items by total purchase value, then list (in a table):\n",
    " Item ID\n",
    " Item Name\n",
    " Purchase Count\n",
    " Item Price\n",
    " Total Purchase Value"
   ]
  },
  {
   "cell_type": "markdown",
   "metadata": {},
   "source": [
    "1. Player Count\n",
    "\n",
    "    Total Number of Players"
   ]
  },
  {
   "cell_type": "code",
   "execution_count": 2,
   "metadata": {},
   "outputs": [
    {
     "name": "stdout",
     "output_type": "stream",
     "text": [
      "Lisosia93      5\n",
      "Iral74         4\n",
      "Idastidru52    4\n",
      "Lisim78        3\n",
      "Aina42         3\n",
      "              ..\n",
      "Hilaerin92     1\n",
      "Ceoral34       1\n",
      "Lisista63      1\n",
      "Layjask75      1\n",
      "Sisur91        1\n",
      "Name: SN, Length: 576, dtype: int64\n"
     ]
    }
   ],
   "source": [
    "data = pd.read_csv('purchase_data.csv')\n",
    "sn= data['SN'].value_counts()\n",
    "print(sn)"
   ]
  },
  {
   "cell_type": "markdown",
   "metadata": {},
   "source": [
    "2. Purchasing Analysis (Total)\n",
    "    <ul>\n",
    "    <li>Number of Unique Items</li>\n",
    "\n",
    "    <li>Average Purchase Price</li>\n",
    "\n",
    "    <li>Total Number of Purchases</li>\n",
    "\n",
    "    <li>Total Revenue</li>\n",
    "    <ul>"
   ]
  },
  {
   "cell_type": "code",
   "execution_count": 3,
   "metadata": {},
   "outputs": [
    {
     "name": "stdout",
     "output_type": "stream",
     "text": [
      "178    12\n",
      "108     9\n",
      "82      9\n",
      "145     9\n",
      "19      8\n",
      "       ..\n",
      "91      1\n",
      "27      1\n",
      "42      1\n",
      "23      1\n",
      "180     1\n",
      "Name: Item ID, Length: 183, dtype: int64\n",
      "3.0509871794871795\n",
      "780\n",
      "2379.77\n"
     ]
    }
   ],
   "source": [
    "item= data['Item ID'].value_counts()\n",
    "print(item)\n",
    "\n",
    "avg=data['Price'].mean()\n",
    "print(avg)\n",
    "total=data.shape[0]\n",
    "print(total)\n",
    "\n",
    "sum=data['Price'].sum()\n",
    "print(sum)"
   ]
  },
  {
   "cell_type": "markdown",
   "metadata": {},
   "source": [
    "3. Gender Demographics\n",
    "\n",
    "o Percentage and Count of Male Players\n",
    "\n",
    "o Percentage and Count of Female Players\n",
    "\n",
    "o Percentage and Count of Other / Non-Disclosed\n"
   ]
  },
  {
   "cell_type": "code",
   "execution_count": 4,
   "metadata": {},
   "outputs": [
    {
     "name": "stdout",
     "output_type": "stream",
     "text": [
      "Male                     652\n",
      "Female                   113\n",
      "Other / Non-Disclosed     15\n",
      "Name: Gender, dtype: int64\n",
      "83.59\n",
      "14.49\n",
      "1.92\n"
     ]
    }
   ],
   "source": [
    "total_gender = data['Gender'].value_counts()\n",
    "print(total_gender)\n",
    "\n",
    "male_percent = total_gender[0]/len(data)*100\n",
    "print(\"%.2f\" % male_percent)\n",
    "\n",
    "female_percent = total_gender[1]/len(data)*100\n",
    "print(\"%.2f\" % female_percent)\n",
    "\n",
    "other_percent = total_gender[2]/len(data)*100\n",
    "print(\"%.2f\" % other_percent)"
   ]
  },
  {
   "cell_type": "markdown",
   "metadata": {},
   "source": [
    "4. Purchasing Analysis (Gender)\n",
    "\n",
    "o The below each broken by gender\n",
    "\n",
    " Purchase Count\n",
    "\n",
    " Average Purchase Price\n",
    "\n",
    " Total Purchase Value\n",
    "\n",
    " Average Purchase Total per Person by Gender\n"
   ]
  },
  {
   "cell_type": "code",
   "execution_count": 5,
   "metadata": {},
   "outputs": [
    {
     "name": "stdout",
     "output_type": "stream",
     "text": [
      "                       Purchase ID        Age    Item ID     Price\n",
      "Gender                                                            \n",
      "Female                  379.380531  21.345133  85.477876  3.203009\n",
      "Male                    392.516871  22.917178  93.524540  3.017853\n",
      "Other / Non-Disclosed   334.600000  24.200000  80.800000  3.346000\n",
      "Gender\n",
      "Female                    361.94\n",
      "Male                     1967.64\n",
      "Other / Non-Disclosed      50.19\n",
      "Name: Price, dtype: float64\n",
      "SN             Gender\n",
      "Adairialis76   Male      2.28\n",
      "Adastirin33    Female    4.48\n",
      "Aeda94         Male      4.91\n",
      "Aela59         Male      4.32\n",
      "Aelaria33      Male      1.79\n",
      "                         ... \n",
      "Yathecal82     Female    6.22\n",
      "Yathedeu43     Male      6.02\n",
      "Yoishirrala98  Female    4.58\n",
      "Zhisrisu83     Male      7.89\n",
      "Zontibe81      Male      8.03\n",
      "Name: Price, Length: 576, dtype: float64\n"
     ]
    },
    {
     "name": "stderr",
     "output_type": "stream",
     "text": [
      "/tmp/ipykernel_9451/1543681982.py:1: FutureWarning: The default value of numeric_only in DataFrameGroupBy.mean is deprecated. In a future version, numeric_only will default to False. Either specify numeric_only or select only columns which should be valid for the function.\n",
      "  avg_pur_gen= data.groupby('Gender').mean()\n"
     ]
    }
   ],
   "source": [
    "avg_pur_gen= data.groupby('Gender').mean()\n",
    "total_pur_gen= data.groupby('Gender')['Price'].sum()\n",
    "avg_pur_gen_per_person= data.groupby(['Gender','SN'])['Price'].sum()\n",
    "\n",
    "print(avg_pur_gen)\n",
    "print(total_pur_gen)\n",
    "print(avg_pur_gen_per_person)\n",
    "\n"
   ]
  },
  {
   "cell_type": "markdown",
   "metadata": {},
   "source": [
    "5. Age Demographics\n",
    "\n",
    "o The below each broken into bins of 4 years (i.e. <10, 10-14, 15-19, etc.)\n",
    "\n",
    " Purchase Count\n",
    "\n",
    " Average Purchase Price\n",
    "\n",
    " Total Purchase Value\n",
    "\n",
    " Average Purchase Total per Person by Age Group\n"
   ]
  },
  {
   "cell_type": "code",
   "execution_count": 31,
   "metadata": {},
   "outputs": [
    {
     "name": "stdout",
     "output_type": "stream",
     "text": [
      "age-group\n",
      "<10       32\n",
      "10-14     19\n",
      "15-19    136\n",
      "20-24    365\n",
      "25-29    101\n",
      "30-34     73\n",
      "35-39     41\n",
      "40-44     12\n",
      "45-49      1\n",
      "dtype: int64\n"
     ]
    }
   ],
   "source": [
    "data['age-group']= pd.cut(x=data['Age'], bins=[0,10,14,19,24,29,34,39,44,49],\n",
    "                    labels=['<10','10-14','15-19','20-24','25-29','30-34','35-39','40-44','45-49'])\n",
    "\n",
    "age_group_purchase=data.groupby(by=['age-group']).size()\n",
    "print(age_group_purchase)"
   ]
  },
  {
   "cell_type": "code",
   "execution_count": 35,
   "metadata": {},
   "outputs": [
    {
     "name": "stdout",
     "output_type": "stream",
     "text": [
      "age-group\n",
      "<10      3.405000\n",
      "10-14    2.681579\n",
      "15-19    3.035956\n",
      "20-24    3.052219\n",
      "25-29    2.900990\n",
      "30-34    2.931507\n",
      "35-39    3.601707\n",
      "40-44    3.045000\n",
      "45-49    1.700000\n",
      "Name: Price, dtype: float64\n",
      "age-group\n",
      "<10       108.96\n",
      "10-14      50.95\n",
      "15-19     412.89\n",
      "20-24    1114.06\n",
      "25-29     293.00\n",
      "30-34     214.00\n",
      "35-39     147.67\n",
      "40-44      36.54\n",
      "45-49       1.70\n",
      "Name: Price, dtype: float64\n"
     ]
    }
   ],
   "source": [
    "age_group_avg_price=data.groupby(by=['age-group'])['Price'].mean()\n",
    "print(age_group_avg_price)\n",
    "\n",
    "age_group_total_price=data.groupby(by=['age-group'])['Price'].sum()\n",
    "print(age_group_total_price)"
   ]
  },
  {
   "cell_type": "code",
   "execution_count": 40,
   "metadata": {},
   "outputs": [
    {
     "name": "stdout",
     "output_type": "stream",
     "text": [
      "SN             age-group\n",
      "Adairialis76   15-19        2.280000\n",
      "Adastirin33    35-39        4.480000\n",
      "Aeda94         15-19        4.910000\n",
      "Aela59         20-24        4.320000\n",
      "Aelaria33      20-24        1.790000\n",
      "                              ...   \n",
      "Yathecal82     20-24        2.073333\n",
      "Yathedeu43     20-24        3.010000\n",
      "Yoishirrala98  15-19        4.580000\n",
      "Zhisrisu83     <10          3.945000\n",
      "Zontibe81      20-24        2.676667\n",
      "Name: Price, Length: 576, dtype: float64\n"
     ]
    }
   ],
   "source": [
    "avg_pur_age_grp_per_person= data.groupby(['SN', 'age-group'])['Price'].mean()\n",
    "print(avg_pur_age_grp_per_person.dropna())"
   ]
  },
  {
   "cell_type": "markdown",
   "metadata": {},
   "source": [
    "6. Top Spenders\n",
    "\n",
    "o Identify the the top 5 spenders in the game by total purchase value, then list (in a\n",
    "table):\n",
    "\n",
    "\n",
    " SN\n",
    "\n",
    " Purchase Count\n",
    "\n",
    " Average Purchase Price\n",
    "\n",
    " Total Purchase Value"
   ]
  },
  {
   "cell_type": "code",
   "execution_count": 79,
   "metadata": {},
   "outputs": [
    {
     "name": "stdout",
     "output_type": "stream",
     "text": [
      "             Count   Average  Price\n",
      "SN                                 \n",
      "Lisosia93        5  3.792000  18.96\n",
      "Idastidru52      4  3.862500  15.45\n",
      "Chamjask73       3  4.610000  13.83\n",
      "Iral74           4  3.405000  13.62\n",
      "Iskadarya95      3  4.366667  13.10\n"
     ]
    }
   ],
   "source": [
    "Most_sale_data_by_SN_price= data.groupby(['SN'])['Price'].sum()\n",
    "Most_sale_data_by_SN_Count= data.groupby(['SN']).size()\n",
    "Most_sale_data_by_SN_average= data.groupby(['SN'])['Price'].mean()\n",
    "\n",
    "Most_sale_data_by_SN_Count.name=\"Count\"\n",
    "Most_sale_data_by_SN_average.name=\"Average\"\n",
    "\n",
    "\n",
    "new_data_by_most_sales=pd.concat([Most_sale_data_by_SN_Count, Most_sale_data_by_SN_average,Most_sale_data_by_SN_price],axis=1)\n",
    "print(new_data_by_most_sales.sort_values(by='Price', ascending=False).head(5))"
   ]
  },
  {
   "cell_type": "markdown",
   "metadata": {},
   "source": [
    "7. Most Popular Items\n",
    "\n",
    "o Identify the 5 most popular items by purchase count, then list (in a table):\n",
    "\n",
    " Item ID\n",
    "\n",
    " Item Name\n",
    "\n",
    " Purchase Count\n",
    "\n",
    " Item Price\n",
    "\n",
    " Total Purchase Value"
   ]
  },
  {
   "cell_type": "code",
   "execution_count": 100,
   "metadata": {},
   "outputs": [
    {
     "name": "stdout",
     "output_type": "stream",
     "text": [
      "                                              Item Name  Count   Price  Total\n",
      "Item ID                                                                      \n",
      "178      [Oathbreaker, Last Hope of the Breaking Storm]     12  [4.23]  50.76\n",
      "145                              [Fiery Glass Crusader]      9  [4.58]  41.22\n",
      "108         [Extraction, Quickblade Of Trembling Hands]      9  [3.53]  31.77\n",
      "82                                            [Nirvana]      9   [4.9]  44.10\n",
      "19                      [Pursuit, Cudgel of Necromancy]      8  [1.02]   8.16\n"
     ]
    }
   ],
   "source": [
    "Most_purchased_data_by_ID= data.groupby(['Item ID'])['Item Name'].unique()\n",
    "Most_purchased_data_by_ID_price= data.groupby(['Item ID'])['Price'].unique()\n",
    "Most_purchased_data_by_ID_Count= data.groupby(['Item ID']).size()\n",
    "Most_purchased_data_by_ID_sum= data.groupby(['Item ID'])['Price'].sum()\n",
    "\n",
    "Most_purchased_data_by_ID_Count.name=\"Count\"\n",
    "Most_purchased_data_by_ID_sum.name=\"Total\"\n",
    "\n",
    "\n",
    "new_data_by_most_pruchased_item=pd.concat([Most_purchased_data_by_ID,Most_purchased_data_by_ID_Count, Most_purchased_data_by_ID_price,Most_purchased_data_by_ID_sum],axis=1)\n",
    "print(new_data_by_most_pruchased_item.sort_values(by='Count', ascending=False).head(5))"
   ]
  },
  {
   "cell_type": "markdown",
   "metadata": {},
   "source": [
    "8. Most Profitable Items\n",
    "\n",
    "o the 5 most profitable items by total purchase value, then list (in a table):\n",
    "\n",
    " Item ID\n",
    "\n",
    " Item Name\n",
    "\n",
    " Purchase Count\n",
    "\n",
    " Item Price\n",
    "\n",
    " Total Purchase Value"
   ]
  },
  {
   "cell_type": "code",
   "execution_count": 101,
   "metadata": {},
   "outputs": [
    {
     "name": "stdout",
     "output_type": "stream",
     "text": [
      "                                              Item Name  Count   Price  Total\n",
      "Item ID                                                                      \n",
      "178      [Oathbreaker, Last Hope of the Breaking Storm]     12  [4.23]  50.76\n",
      "82                                            [Nirvana]      9   [4.9]  44.10\n",
      "145                              [Fiery Glass Crusader]      9  [4.58]  41.22\n",
      "92                                       [Final Critic]      8  [4.88]  39.04\n",
      "103                                    [Singed Scalpel]      8  [4.35]  34.80\n"
     ]
    }
   ],
   "source": [
    "print(new_data_by_most_pruchased_item.sort_values(by='Total', ascending=False).head(5))"
   ]
  }
 ],
 "metadata": {
  "kernelspec": {
   "display_name": "base",
   "language": "python",
   "name": "python3"
  },
  "language_info": {
   "codemirror_mode": {
    "name": "ipython",
    "version": 3
   },
   "file_extension": ".py",
   "mimetype": "text/x-python",
   "name": "python",
   "nbconvert_exporter": "python",
   "pygments_lexer": "ipython3",
   "version": "3.11.4"
  },
  "orig_nbformat": 4
 },
 "nbformat": 4,
 "nbformat_minor": 2
}
