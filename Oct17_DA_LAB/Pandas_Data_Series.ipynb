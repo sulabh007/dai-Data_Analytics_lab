{
 "cells": [
  {
   "cell_type": "code",
   "execution_count": 12,
   "metadata": {},
   "outputs": [],
   "source": [
    "import pandas as pd\n",
    "import numpy as np"
   ]
  },
  {
   "cell_type": "markdown",
   "metadata": {},
   "source": [
    "1. Write a Pandas program to create and display a one-dimensional array-like object containing an array of data using Pandas module."
   ]
  },
  {
   "cell_type": "code",
   "execution_count": 2,
   "metadata": {},
   "outputs": [
    {
     "name": "stdout",
     "output_type": "stream",
     "text": [
      "0    1\n",
      "1    2\n",
      "2    3\n",
      "3    4\n",
      "4    5\n",
      "dtype: int64\n"
     ]
    }
   ],
   "source": [
    "series1= pd.Series([1,2,3,4,5])\n",
    "print(series1)"
   ]
  },
  {
   "cell_type": "markdown",
   "metadata": {},
   "source": [
    "2. Write a Pandas program to convert a Panda module Series to Python list and it's type."
   ]
  },
  {
   "cell_type": "code",
   "execution_count": 5,
   "metadata": {},
   "outputs": [
    {
     "name": "stdout",
     "output_type": "stream",
     "text": [
      "[1, 2, 3, 4, 5]\n"
     ]
    },
    {
     "data": {
      "text/plain": [
       "list"
      ]
     },
     "execution_count": 5,
     "metadata": {},
     "output_type": "execute_result"
    }
   ],
   "source": [
    "series1= pd.Series([1,2,3,4,5])\n",
    "lst=[]\n",
    "lst=pd.Series.to_list(series1)\n",
    "print(lst)\n",
    "type(lst)"
   ]
  },
  {
   "cell_type": "markdown",
   "metadata": {},
   "source": [
    "3. Write a Pandas program to add, subtract, multiple and divide two Pandas Series.\n",
    "Sample Series: [2, 4, 6, 8, 10], [1, 3, 5, 7, 9]"
   ]
  },
  {
   "cell_type": "code",
   "execution_count": 8,
   "metadata": {},
   "outputs": [
    {
     "name": "stdout",
     "output_type": "stream",
     "text": [
      "Series 1:\n",
      " 0     2\n",
      "1     4\n",
      "2     6\n",
      "3     8\n",
      "4    10\n",
      "dtype: int64\n",
      "Series 2:\n",
      " 0    1\n",
      "1    3\n",
      "2    5\n",
      "3    7\n",
      "4    9\n",
      "dtype: int64\n",
      "Addition:\n",
      " 0     3\n",
      "1     7\n",
      "2    11\n",
      "3    15\n",
      "4    19\n",
      "dtype: int64\n",
      "Substraction:\n",
      " 0    1\n",
      "1    1\n",
      "2    1\n",
      "3    1\n",
      "4    1\n",
      "dtype: int64\n",
      "Multiplication:\n",
      " 0     2\n",
      "1    12\n",
      "2    30\n",
      "3    56\n",
      "4    90\n",
      "dtype: int64\n",
      "Division:\n",
      " 0    2.000000\n",
      "1    1.333333\n",
      "2    1.200000\n",
      "3    1.142857\n",
      "4    1.111111\n",
      "dtype: float64\n"
     ]
    }
   ],
   "source": [
    "series1=pd.Series([2, 4, 6, 8, 10])\n",
    "series2=pd.Series([1, 3, 5, 7, 9])\n",
    "print(\"Series 1:\\n\",series1)\n",
    "print(\"Series 2:\\n\",series2)\n",
    "add=series1+series2\n",
    "sub=series1-series2\n",
    "mul=series1*series2\n",
    "div=series1/series2\n",
    "print(\"Addition:\\n\",add)\n",
    "print(\"Substraction:\\n\",sub)\n",
    "print(\"Multiplication:\\n\",mul)\n",
    "print(\"Division:\\n\",div)"
   ]
  },
  {
   "cell_type": "markdown",
   "metadata": {},
   "source": [
    "4. Write a Pandas program to compare the elements of the two Pandas Series.\n",
    "Sample Series: [2, 4, 6, 8, 10], [1, 3, 5, 7, 10]"
   ]
  },
  {
   "cell_type": "code",
   "execution_count": 10,
   "metadata": {},
   "outputs": [
    {
     "name": "stdout",
     "output_type": "stream",
     "text": [
      "Less than:\n",
      " 0    False\n",
      "1    False\n",
      "2    False\n",
      "3    False\n",
      "4    False\n",
      "dtype: bool\n",
      "Greater than:\n",
      " 0    True\n",
      "1    True\n",
      "2    True\n",
      "3    True\n",
      "4    True\n",
      "dtype: bool\n",
      "Equal to:\n",
      " 0    False\n",
      "1    False\n",
      "2    False\n",
      "3    False\n",
      "4    False\n",
      "dtype: bool\n",
      "   self  other\n",
      "0     2      1\n",
      "1     4      3\n",
      "2     6      5\n",
      "3     8      7\n",
      "4    10      9\n"
     ]
    }
   ],
   "source": [
    "series1=pd.Series([2, 4, 6, 8, 10])\n",
    "series2=pd.Series([1, 3, 5, 7, 9])\n",
    "lessthan=series1<series2\n",
    "greterthan=series1>series2\n",
    "equalto=series1==series2\n",
    "print(\"Less than:\\n\",lessthan)\n",
    "print(\"Greater than:\\n\",greterthan)\n",
    "print(\"Equal to:\\n\",equalto)\n",
    "print(series1.compare(series2))\n"
   ]
  },
  {
   "cell_type": "markdown",
   "metadata": {},
   "source": [
    "5. Write a Pandas program to convert a dictionary to a Pandas series. Sample Series:\n",
    "Original dictionary:\n",
    "{'a': 100, 'b': 200, 'c': 300, 'd': 400, 'e': 800}"
   ]
  },
  {
   "cell_type": "code",
   "execution_count": 11,
   "metadata": {},
   "outputs": [
    {
     "name": "stdout",
     "output_type": "stream",
     "text": [
      "a    100\n",
      "b    200\n",
      "c    300\n",
      "d    400\n",
      "e    800\n",
      "dtype: int64\n"
     ]
    }
   ],
   "source": [
    "dict1={'a': 100, 'b': 200, 'c': 300, 'd': 400, 'e': 800}\n",
    "series1=pd.Series(dict1)\n",
    "print(series1)"
   ]
  },
  {
   "cell_type": "markdown",
   "metadata": {},
   "source": [
    "6. Write a Pandas program to convert a NumPy array to a Pandas series.\n",
    "\n",
    "Sample Series:\n",
    "\n",
    "NumPy array:\n",
    "\n",
    "[10 20 30 40 50]"
   ]
  },
  {
   "cell_type": "code",
   "execution_count": 18,
   "metadata": {},
   "outputs": [
    {
     "name": "stdout",
     "output_type": "stream",
     "text": [
      "[10 20 30 40 50]\n",
      "<class 'numpy.ndarray'>\n",
      "0    10\n",
      "1    20\n",
      "2    30\n",
      "3    40\n",
      "4    50\n",
      "dtype: int64\n",
      "<class 'pandas.core.series.Series'>\n"
     ]
    }
   ],
   "source": [
    "nparr=np.array([10, 20, 30, 40, 50])\n",
    "print(nparr)\n",
    "print(type(nparr))\n",
    "series1=pd.Series(nparr)\n",
    "print(series1)\n",
    "print(type(series1))"
   ]
  },
  {
   "cell_type": "markdown",
   "metadata": {},
   "source": [
    "7. Write a Pandas program to change the data type of given a column or a Series."
   ]
  },
  {
   "cell_type": "code",
   "execution_count": 31,
   "metadata": {},
   "outputs": [
    {
     "name": "stdout",
     "output_type": "stream",
     "text": [
      "0       100\n",
      "1       200\n",
      "2    python\n",
      "3    300.12\n",
      "4       400\n",
      "dtype: object\n",
      "0    100.00\n",
      "1    200.00\n",
      "2       NaN\n",
      "3    300.12\n",
      "4    400.00\n",
      "dtype: float64\n"
     ]
    }
   ],
   "source": [
    "series1=pd.Series(['100', '200', \"python\", '300.12', '400'])\n",
    "series2 = pd.to_numeric(series1, errors='coerce')\n",
    "print(series1)\n",
    "print(series2)"
   ]
  },
  {
   "cell_type": "markdown",
   "metadata": {},
   "source": [
    "8. Write a Pandas program to convert the first column of a DataFrame as a Series."
   ]
  },
  {
   "cell_type": "code",
   "execution_count": 38,
   "metadata": {},
   "outputs": [
    {
     "name": "stdout",
     "output_type": "stream",
     "text": [
      "   col1  col2  col3\n",
      "0     1     4     7\n",
      "1     2     5     5\n",
      "2     3     6     8\n",
      "3     4     9    12\n",
      "4     7     5     1\n",
      "5    11     0    11\n",
      "<class 'pandas.core.frame.DataFrame'>\n",
      "0     1\n",
      "1     2\n",
      "2     3\n",
      "3     4\n",
      "4     7\n",
      "5    11\n",
      "Name: col1, dtype: int64\n",
      "<class 'pandas.core.series.Series'>\n"
     ]
    }
   ],
   "source": [
    "df=pd.DataFrame({'col1':[1,2,3,4,7,11],'col2':[4,5,6,9,5,0],'col3':[7,5,8,12,1,11]})\n",
    "print(df)\n",
    "print(type(df))\n",
    "series1=pd.Series(df['col1'])\n",
    "print(series1)\n",
    "print(type(series1))"
   ]
  },
  {
   "cell_type": "markdown",
   "metadata": {},
   "source": [
    "9. Write a Pandas program to convert a given Series to an array."
   ]
  },
  {
   "cell_type": "code",
   "execution_count": 44,
   "metadata": {},
   "outputs": [
    {
     "name": "stdout",
     "output_type": "stream",
     "text": [
      "0       100\n",
      "1       200\n",
      "2    python\n",
      "3    300.12\n",
      "4       400\n",
      "dtype: object\n",
      "<class 'pandas.core.series.Series'>\n",
      "['100' '200' 'python' '300.12' '400']\n",
      "<class 'numpy.ndarray'>\n"
     ]
    }
   ],
   "source": [
    "series1=pd.Series(['100', '200', \"python\", '300.12', '400'])\n",
    "nparray=np.array(series1)\n",
    "print(series1)\n",
    "print(type(series1))\n",
    "print(nparray)\n",
    "print(type(nparray))"
   ]
  },
  {
   "cell_type": "markdown",
   "metadata": {},
   "source": [
    "10. Write a Pandas program to convert Series of lists to one Series."
   ]
  },
  {
   "cell_type": "code",
   "execution_count": 57,
   "metadata": {},
   "outputs": [
    {
     "name": "stdout",
     "output_type": "stream",
     "text": [
      "0    [Red, Green, White]\n",
      "1           [Red, Black]\n",
      "2               [Yellow]\n",
      "dtype: object\n",
      "0       Red\n",
      "1     Green\n",
      "2     White\n",
      "3       Red\n",
      "4     Black\n",
      "5    Yellow\n",
      "dtype: object\n"
     ]
    }
   ],
   "source": [
    "series1=pd.Series([['Red', 'Green', 'White'],['Red', 'Black'],['Yellow']])\n",
    "print(series1)\n",
    "series2 = series1.apply(pd.Series).stack().reset_index(drop=True)\n",
    "print(series2)"
   ]
  },
  {
   "cell_type": "markdown",
   "metadata": {},
   "source": [
    "11. Write a Pandas program to sort a given Series."
   ]
  },
  {
   "cell_type": "code",
   "execution_count": 58,
   "metadata": {},
   "outputs": [
    {
     "name": "stdout",
     "output_type": "stream",
     "text": [
      "0       100\n",
      "1       200\n",
      "2    python\n",
      "3    300.12\n",
      "4       400\n",
      "dtype: object\n",
      "0       100\n",
      "1       200\n",
      "3    300.12\n",
      "4       400\n",
      "2    python\n",
      "dtype: object\n"
     ]
    }
   ],
   "source": [
    "series1=pd.Series(['100', '200', \"python\", '300.12', '400'])\n",
    "series2=series1.sort_values(ascending=True)\n",
    "print(series1)\n",
    "print(series2)"
   ]
  },
  {
   "cell_type": "markdown",
   "metadata": {},
   "source": [
    "12. Write a Pandas program to add some data to an existing Series."
   ]
  },
  {
   "cell_type": "code",
   "execution_count": 65,
   "metadata": {},
   "outputs": [
    {
     "name": "stdout",
     "output_type": "stream",
     "text": [
      "0       100\n",
      "1       200\n",
      "2    python\n",
      "3    300.12\n",
      "4       400\n",
      "dtype: object\n",
      "0       100\n",
      "1       200\n",
      "2    python\n",
      "3    300.12\n",
      "4       400\n",
      "5       500\n",
      "6       php\n",
      "dtype: object\n"
     ]
    }
   ],
   "source": [
    "series1=pd.Series(['100', '200', \"python\", '300.12', '400'])\n",
    "print(series1)\n",
    "series2 = pd.concat([series1, pd.Series([500, \"php\"])], ignore_index=True)\n",
    "print(series2)"
   ]
  },
  {
   "cell_type": "markdown",
   "metadata": {},
   "source": [
    "13. Write a Pandas program to create a subset of a given series based on value and condition."
   ]
  },
  {
   "cell_type": "code",
   "execution_count": 73,
   "metadata": {},
   "outputs": [
    {
     "name": "stdout",
     "output_type": "stream",
     "text": [
      "0     1\n",
      "1     2\n",
      "2     3\n",
      "3     4\n",
      "4     5\n",
      "5     6\n",
      "6     7\n",
      "7     8\n",
      "8     9\n",
      "9    10\n",
      "dtype: int64\n",
      "0    1\n",
      "1    2\n",
      "2    3\n",
      "3    4\n",
      "4    5\n",
      "dtype: int64\n"
     ]
    }
   ],
   "source": [
    "series1=pd.Series([1,2,3,4,5,6,7,8,9,10])\n",
    "series2= series1[series1<6]\n",
    "print(series1)\n",
    "print(series2)\n"
   ]
  },
  {
   "cell_type": "markdown",
   "metadata": {},
   "source": [
    "14. Write a Pandas program to change the order of index of a given series."
   ]
  },
  {
   "cell_type": "code",
   "execution_count": 75,
   "metadata": {},
   "outputs": [
    {
     "name": "stdout",
     "output_type": "stream",
     "text": [
      "A    1\n",
      "B    2\n",
      "C    3\n",
      "D    4\n",
      "E    5\n",
      "dtype: int64\n",
      "B    2\n",
      "A    1\n",
      "C    3\n",
      "D    4\n",
      "E    5\n",
      "dtype: int64\n"
     ]
    }
   ],
   "source": [
    "series1 = pd.Series(data = [1,2,3,4,5], index = ['A', 'B', 'C','D','E'])\n",
    "print(series1)\n",
    "series1 = series1.reindex(index = ['B','A','C','D','E'])\n",
    "print(series1)"
   ]
  },
  {
   "cell_type": "markdown",
   "metadata": {},
   "source": [
    "15. Write a Pandas program to create the mean and standard deviation of the data of a given Series."
   ]
  },
  {
   "cell_type": "code",
   "execution_count": 76,
   "metadata": {},
   "outputs": [
    {
     "name": "stdout",
     "output_type": "stream",
     "text": [
      "5.5\n",
      "3.0276503540974917\n"
     ]
    }
   ],
   "source": [
    "series1= pd.Series([1,2,3,4,5,6,7,8,9,10])\n",
    "\n",
    "print(series1.mean())\n",
    "print(series1.std())"
   ]
  },
  {
   "cell_type": "markdown",
   "metadata": {},
   "source": [
    "16 Write a Pandas program to get the items of a given series not present in another given series."
   ]
  },
  {
   "cell_type": "code",
   "execution_count": 79,
   "metadata": {},
   "outputs": [
    {
     "name": "stdout",
     "output_type": "stream",
     "text": [
      "0     1\n",
      "3     4\n",
      "5     6\n",
      "7     8\n",
      "9    10\n",
      "dtype: int64\n"
     ]
    }
   ],
   "source": [
    "series1= pd.Series([1,2,3,4,5,6,7,8,9,10])\n",
    "series2= pd.Series([11,2,3,41,5,16,7,18,9,110])\n",
    "\n",
    "print(series1[~series1.isin(series2)])"
   ]
  },
  {
   "cell_type": "markdown",
   "metadata": {},
   "source": [
    "17. Write a Pandas program to get the items which are not common of two given series."
   ]
  },
  {
   "cell_type": "code",
   "execution_count": 81,
   "metadata": {},
   "outputs": [
    {
     "name": "stdout",
     "output_type": "stream",
     "text": [
      "0     1\n",
      "2     3\n",
      "4     5\n",
      "5     6\n",
      "6     8\n",
      "7    10\n",
      "dtype: int64\n"
     ]
    }
   ],
   "source": [
    "series1 = pd.Series([1, 2, 3, 4, 5])\n",
    "series2 = pd.Series([2, 4, 6, 8, 10])\n",
    "\n",
    "sr11 = pd.Series(np.union1d(series1, series2))\n",
    "sr22 = pd.Series(np.intersect1d(series1, series2))\n",
    "print(sr11[~sr11.isin(sr22)])"
   ]
  },
  {
   "cell_type": "markdown",
   "metadata": {},
   "source": [
    "Write a Pandas program to compute the minimum, 25th percentile, median, 75th, and maximum of a given series."
   ]
  },
  {
   "cell_type": "code",
   "execution_count": 85,
   "metadata": {},
   "outputs": [
    {
     "name": "stdout",
     "output_type": "stream",
     "text": [
      "Min:  1\n",
      "Max:  10\n",
      "Mean:  5.5\n",
      "25 percentile:  3.25\n",
      "75 percentile:  7.75\n",
      "percentile:  [ 1.    3.25  5.5   7.75 10.  ]\n"
     ]
    }
   ],
   "source": [
    "series1= pd.Series([1,2,3,4,5,6,7,8,9,10])\n",
    "\n",
    "print(\"Min: \", series1.min())\n",
    "print(\"Max: \", series1.max())\n",
    "print(\"Mean: \", series1.median())\n",
    "print(\"25 percentile: \",np.percentile(series1, q=25))\n",
    "print(\"75 percentile: \",np.percentile(series1, q=75))\n",
    "print(\"percentile: \",np.percentile(series1, q=[0,25,50,75,100]))"
   ]
  },
  {
   "cell_type": "markdown",
   "metadata": {},
   "source": [
    "19. Write a Pandas program to calculate the frequency counts of each unique value of a given series."
   ]
  },
  {
   "cell_type": "code",
   "execution_count": 91,
   "metadata": {},
   "outputs": [
    {
     "name": "stdout",
     "output_type": "stream",
     "text": [
      "0    4\n",
      "1    2\n",
      "2    4\n",
      "3    2\n",
      "4    3\n",
      "5    3\n",
      "6    4\n",
      "7    3\n",
      "8    0\n",
      "9    2\n",
      "dtype: int64\n",
      "4    3\n",
      "2    3\n",
      "3    3\n",
      "0    1\n",
      "dtype: int64\n"
     ]
    }
   ],
   "source": [
    "num_state = np.random.randint(5, size=(10))\n",
    "series1=pd.Series(num_state)\n",
    "print(series1)\n",
    "\n",
    "print(series1.value_counts())"
   ]
  },
  {
   "cell_type": "markdown",
   "metadata": {},
   "source": [
    "20. Write a Pandas program to display most frequent value in a given series and replace everything else as 'Other' in the series.\n"
   ]
  },
  {
   "cell_type": "code",
   "execution_count": 114,
   "metadata": {},
   "outputs": [
    {
     "name": "stdout",
     "output_type": "stream",
     "text": [
      "0     5\n",
      "1     1\n",
      "2     2\n",
      "3     0\n",
      "4     2\n",
      "5     6\n",
      "6     2\n",
      "7     5\n",
      "8     3\n",
      "9     8\n",
      "10    7\n",
      "11    5\n",
      "12    2\n",
      "13    4\n",
      "14    3\n",
      "dtype: int64\n",
      "0     others\n",
      "1     others\n",
      "2          2\n",
      "3     others\n",
      "4          2\n",
      "5     others\n",
      "6          2\n",
      "7     others\n",
      "8     others\n",
      "9     others\n",
      "10    others\n",
      "11    others\n",
      "12         2\n",
      "13    others\n",
      "14    others\n",
      "dtype: object\n"
     ]
    }
   ],
   "source": [
    "num_state = np.random.randint(10, size=(15))\n",
    "series1=pd.Series(num_state)\n",
    "print(series1)\n",
    "\n",
    "max_series=series1.value_counts()\n",
    "\n",
    "series1[~series1.isin(max_series.index[:1])] ='others'\n",
    "print(series1)"
   ]
  },
  {
   "cell_type": "markdown",
   "metadata": {},
   "source": [
    "21. Write a Pandas program to find the positions of numbers that are multiples of 5 of a given series.\n",
    "\n",
    "Sample Output:\n",
    "Original Series:\n",
    "0 1\n",
    "1 9\n",
    "2 8\n",
    "3 6\n",
    "4 9\n",
    "5 7\n",
    "6 1\n",
    "7 1\n",
    "8 1\n",
    "dtype: int64\n",
    "\n",
    "Positions of numbers that are multiples of 5:[]"
   ]
  },
  {
   "cell_type": "code",
   "execution_count": 125,
   "metadata": {},
   "outputs": [
    {
     "name": "stdout",
     "output_type": "stream",
     "text": [
      "0     0\n",
      "1     5\n",
      "2     5\n",
      "3     7\n",
      "4     5\n",
      "     ..\n",
      "95    3\n",
      "96    2\n",
      "97    8\n",
      "98    6\n",
      "99    8\n",
      "Length: 100, dtype: int64\n",
      "1     5\n",
      "2     5\n",
      "4     5\n",
      "6     5\n",
      "18    5\n",
      "20    5\n",
      "37    5\n",
      "39    5\n",
      "45    5\n",
      "53    5\n",
      "63    5\n",
      "90    5\n",
      "94    5\n",
      "dtype: int64\n"
     ]
    }
   ],
   "source": [
    "num_state = np.random.randint(10, size=(15))\n",
    "series1=pd.Series(num_state)\n",
    "print(series1)\n",
    "\n",
    "series2= series1.loc[((series1%5==0) & (series1!=0))]\n",
    "print(series2)"
   ]
  },
  {
   "cell_type": "markdown",
   "metadata": {},
   "source": [
    "Write a Pandas program to extract items at given positions of a given series."
   ]
  },
  {
   "cell_type": "code",
   "execution_count": 133,
   "metadata": {},
   "outputs": [
    {
     "name": "stdout",
     "output_type": "stream",
     "text": [
      "0     6\n",
      "1     5\n",
      "2     2\n",
      "3     5\n",
      "4     3\n",
      "5     3\n",
      "6     2\n",
      "7     8\n",
      "8     6\n",
      "9     3\n",
      "10    5\n",
      "11    3\n",
      "12    4\n",
      "13    6\n",
      "14    6\n",
      "dtype: int64\n",
      "At  0     2\n",
      "1     4\n",
      "2     6\n",
      "3     8\n",
      "4    11\n",
      "5    14\n",
      "dtype: int64 \n",
      " 2     2\n",
      "4     3\n",
      "6     2\n",
      "8     6\n",
      "11    3\n",
      "14    6\n",
      "dtype: int64\n"
     ]
    }
   ],
   "source": [
    "num_state = np.random.randint(10, size=(15))\n",
    "series1=pd.Series(num_state)\n",
    "print(series1)\n",
    "idx=5\n",
    "\n",
    "series2=pd.Series([2,4,6,8,11,14])\n",
    "\n",
    "print(\"At \",series2,\"\\n\",series1.iloc[series2])\n",
    "\n"
   ]
  },
  {
   "cell_type": "markdown",
   "metadata": {},
   "source": [
    "23. Write a Pandas program to get the positions of items of a given series in another given series."
   ]
  },
  {
   "cell_type": "code",
   "execution_count": 263,
   "metadata": {},
   "outputs": [
    {
     "name": "stdout",
     "output_type": "stream",
     "text": [
      "0       1\n",
      "1       2\n",
      "2       3\n",
      "3       5\n",
      "4     456\n",
      "5       6\n",
      "6      54\n",
      "7       8\n",
      "8     111\n",
      "9      11\n",
      "10      1\n",
      "11      4\n",
      "12     10\n",
      "13      5\n",
      "14     10\n",
      "dtype: int64\n",
      "At \n",
      " [1, 11, 5, 7, 9]\n"
     ]
    }
   ],
   "source": [
    "num_state = np.random.randint(10, size=(15))\n",
    "series1=pd.Series([1,2,3,5,456,6,54,8,111,11,1,4,10,5,10])\n",
    "print(series1)\n",
    "idx=5\n",
    "\n",
    "series2=pd.Series([2,4,6,8,11])\n",
    "series3=[pd.Index(series1).get_loc(i) for i in series2]\n",
    "print(\"At \\n\",series3)"
   ]
  },
  {
   "cell_type": "markdown",
   "metadata": {},
   "source": [
    "24. Write a Pandas program convert the first and last character of each word to upper case in each word of a given series."
   ]
  },
  {
   "cell_type": "code",
   "execution_count": 162,
   "metadata": {},
   "outputs": [
    {
     "name": "stdout",
     "output_type": "stream",
     "text": [
      "At \n",
      " 0        PythoN\n",
      "1          JavA\n",
      "2           CpP\n",
      "3    JavascripT\n",
      "dtype: object\n"
     ]
    }
   ],
   "source": [
    "series1=pd.Series(['python','java', 'cpp','javascript'])\n",
    "\n",
    "series1=result = series1.map(lambda x: x[0].upper() + x[1:-1] + x[-1].upper())\n",
    "print(\"At \\n\",series1)"
   ]
  },
  {
   "cell_type": "markdown",
   "metadata": {},
   "source": [
    "25. Write a Pandas program to calculate the number of characters in each word in a given series."
   ]
  },
  {
   "cell_type": "code",
   "execution_count": 163,
   "metadata": {},
   "outputs": [
    {
     "name": "stdout",
     "output_type": "stream",
     "text": [
      "At \n",
      " 0     6\n",
      "1     4\n",
      "2     3\n",
      "3    10\n",
      "dtype: int64\n"
     ]
    }
   ],
   "source": [
    "series1=pd.Series(['python','java', 'cpp','javascript'])\n",
    "\n",
    "series1=result = series1.map(lambda x: len(x))\n",
    "print(\"At \\n\",series1)"
   ]
  },
  {
   "cell_type": "markdown",
   "metadata": {},
   "source": [
    "26. Write a Pandas program to compute difference of differences between consecutive numbers of a given series."
   ]
  },
  {
   "cell_type": "code",
   "execution_count": 166,
   "metadata": {},
   "outputs": [
    {
     "name": "stdout",
     "output_type": "stream",
     "text": [
      "0       1\n",
      "1       2\n",
      "2       3\n",
      "3       5\n",
      "4     456\n",
      "5       6\n",
      "6      54\n",
      "7       8\n",
      "8     111\n",
      "9      11\n",
      "10      1\n",
      "11      4\n",
      "12     10\n",
      "13      5\n",
      "14     10\n",
      "dtype: int64\n",
      "[nan, 1.0, 1.0, 2.0, 451.0, -450.0, 48.0, -46.0, 103.0, -100.0, -10.0, 3.0, 6.0, -5.0, 5.0]\n",
      "[nan, nan, 0.0, 1.0, 449.0, -901.0, 498.0, -94.0, 149.0, -203.0, 90.0, 13.0, 3.0, -11.0, 10.0]\n"
     ]
    }
   ],
   "source": [
    "series1=pd.Series([1,2,3,5,456,6,54,8,111,11,1,4,10,5,10])\n",
    "print(series1)\n",
    "\n",
    "print(series1.diff().tolist())\n",
    "print(series1.diff().diff().tolist())"
   ]
  },
  {
   "cell_type": "markdown",
   "metadata": {},
   "source": [
    "27. Write a Pandas program to convert a series of date strings to a timeseries."
   ]
  },
  {
   "cell_type": "code",
   "execution_count": 168,
   "metadata": {},
   "outputs": [
    {
     "name": "stdout",
     "output_type": "stream",
     "text": [
      "0   2015-01-01\n",
      "1   2016-10-02\n",
      "2   2018-03-07\n",
      "3   2014-05-06\n",
      "4   2016-04-12\n",
      "5   2019-04-06\n",
      "dtype: datetime64[ns]\n"
     ]
    }
   ],
   "source": [
    "series1=pd.Series(['01 Jan 2015', '10-02-2016', '20180307','2014/05/06','2016-04-12','2019-04-06'])\n",
    "\n",
    "print(pd.to_datetime(series1))"
   ]
  },
  {
   "cell_type": "markdown",
   "metadata": {},
   "source": [
    "28. Write a Pandas program to get the day of month, day of year, week number and day of week from a given series of date strings."
   ]
  },
  {
   "cell_type": "code",
   "execution_count": 190,
   "metadata": {},
   "outputs": [
    {
     "name": "stdout",
     "output_type": "stream",
     "text": [
      "Month: \n",
      " [1, 10, 3, 5, 4, 4]\n",
      "Year: \n",
      " [2015, 2016, 2018, 2014, 2016, 2019]\n",
      "Date: \n",
      " [1, 2, 7, 6, 12, 6]\n",
      "Week: \n",
      " ['Thursday', 'Sunday', 'Wednesday', 'Tuesday', 'Tuesday', 'Saturday']\n"
     ]
    }
   ],
   "source": [
    "\n",
    "series1=pd.Series(['01 Jan 2015', '10-02-2016', '20180307','2014/05/06','2016-04-12','2019-04-06'])\n",
    "\n",
    "series2=(pd.to_datetime(series1))\n",
    "print(\"Month: \\n\", series2.dt.month.tolist())\n",
    "print(\"Year: \\n\", series2.dt.year.tolist())\n",
    "print(\"Date: \\n\", series2.dt.day.tolist())\n",
    "print(\"Week: \\n\", series2.dt.day_name().tolist())"
   ]
  },
  {
   "cell_type": "markdown",
   "metadata": {},
   "source": [
    "29. Write a Pandas program to convert year-month string to dates adding a specified day of the month."
   ]
  },
  {
   "cell_type": "code",
   "execution_count": 194,
   "metadata": {},
   "outputs": [
    {
     "name": "stdout",
     "output_type": "stream",
     "text": [
      "0   2015-01-11\n",
      "1   2016-02-11\n",
      "2   2017-03-11\n",
      "3   2018-04-11\n",
      "4   2019-05-11\n",
      "dtype: datetime64[ns]\n"
     ]
    }
   ],
   "source": [
    "series1=pd.Series(['Jan 2015', 'Feb 2016', 'Mar 2017' ,'Apr 2018',' May 2019'])\n",
    "series1=pd.to_datetime(series1.apply(lambda x:\"11 \"+x))\n",
    "print(series1)"
   ]
  },
  {
   "cell_type": "markdown",
   "metadata": {},
   "source": [
    "30. Write a Pandas program to filter words from a given series that contain atleast two vowels."
   ]
  },
  {
   "cell_type": "code",
   "execution_count": 215,
   "metadata": {},
   "outputs": [
    {
     "name": "stdout",
     "output_type": "stream",
     "text": [
      "1     Green\n",
      "2    Orange\n",
      "4    Yellow\n",
      "5     White\n",
      "dtype: object\n"
     ]
    }
   ],
   "source": [
    "def vowel(strs):\n",
    "    v=list('aeiou')\n",
    "    cnt=0\n",
    "    for s in strs:\n",
    "        if s in v:\n",
    "            cnt+=1\n",
    "    return cnt>=2\n",
    "    \n",
    "\n",
    "series1=pd.Series(['Red','Green','Orange','Pink','Yellow','White'])\n",
    "\n",
    "#result = series1[series1.str.count('(?i)[aeiou]') >=2]\n",
    "#print(result)\n",
    "\n",
    "res=series1.apply(vowel)\n",
    "print(series1[res])"
   ]
  },
  {
   "cell_type": "markdown",
   "metadata": {},
   "source": [
    "31. Write a Pandas program to compute the Euclidean distance between two given series."
   ]
  },
  {
   "cell_type": "code",
   "execution_count": 216,
   "metadata": {},
   "outputs": [
    {
     "name": "stdout",
     "output_type": "stream",
     "text": [
      "16.492422502470642\n"
     ]
    }
   ],
   "source": [
    "series1 = pd.Series([1, 2, 3, 4, 5, 6, 7, 8, 9, 10])\n",
    "series2 = pd.Series([11, 8, 7, 5, 6, 5, 3, 4, 7, 1])\n",
    "print(np.linalg.norm(series1-series2))"
   ]
  },
  {
   "cell_type": "markdown",
   "metadata": {},
   "source": [
    "32. Write a Pandas program to find the positions of the values neighboured by smaller values on both sides in a given series."
   ]
  },
  {
   "cell_type": "code",
   "execution_count": 251,
   "metadata": {},
   "outputs": [
    {
     "name": "stdout",
     "output_type": "stream",
     "text": [
      "[1 4 8]\n"
     ]
    }
   ],
   "source": [
    "series1 = pd.Series([1, 8, 7, 5, 6, 5, 3, 4, 7, 1])\n",
    "\n",
    "temp = np.diff(np.sign(np.diff(series1)))\n",
    "result = np.where(temp == -2)[0] + 1\n",
    "print(result)"
   ]
  },
  {
   "cell_type": "markdown",
   "metadata": {},
   "source": [
    "33. Write a Pandas program to replace missing white spaces in a given string with the least frequent character."
   ]
  },
  {
   "cell_type": "code",
   "execution_count": 236,
   "metadata": {},
   "outputs": [
    {
     "name": "stdout",
     "output_type": "stream",
     "text": [
      "0     a\n",
      "1     b\n",
      "2     c\n",
      "3     i\n",
      "4     d\n",
      "5     e\n",
      "6     f\n",
      "7     i\n",
      "8     a\n",
      "9     b\n",
      "10    c\n",
      "11    d\n",
      "12    e\n",
      "13    f\n",
      "14    i\n",
      "15    i\n",
      "16    c\n",
      "17    d\n",
      "dtype: object\n",
      "abcidefiabcdefiicd\n"
     ]
    }
   ],
   "source": [
    "series1 = pd.Series(list('abc def abcdef icd'))\n",
    "\n",
    "least= series1.value_counts().index[-1]\n",
    "\n",
    "res=series1.replace(\" \", least)\n",
    "print(res)\n",
    "print(''.join(res))"
   ]
  },
  {
   "cell_type": "markdown",
   "metadata": {},
   "source": [
    "34. Write a Pandas program to compute the autocorrelations of a given numeric series."
   ]
  },
  {
   "cell_type": "code",
   "execution_count": 262,
   "metadata": {},
   "outputs": [
    {
     "name": "stdout",
     "output_type": "stream",
     "text": [
      "0      8.838470\n",
      "1      9.838676\n",
      "2     -0.673632\n",
      "3     -6.745560\n",
      "4    -10.128265\n",
      "5     27.168535\n",
      "6      7.111608\n",
      "7     12.592569\n",
      "8     -8.674251\n",
      "9     26.668619\n",
      "10    12.453143\n",
      "11    -7.803228\n",
      "12    -1.757936\n",
      "13     3.123871\n",
      "14    15.041030\n",
      "dtype: float64\n",
      "[1.0, -0.1492597330888518, -0.23439554071075994, -0.37221766279118185, 0.3719736711083535, 0.10281114052758054, -0.6127065401277958, -0.13966748119730285, 0.24768771785377444, 0.6170664553735337, -0.4175738935509718]\n"
     ]
    }
   ],
   "source": [
    "series1 = pd.Series(np.arange(15) + np.random.normal(1, 10, 15))\n",
    "print(series1)\n",
    "autocorrelations = [series1.autocorr(i).round(2) for i in range(11)]\n",
    "print(autocorrelations)"
   ]
  },
  {
   "cell_type": "markdown",
   "metadata": {},
   "source": [
    "35. Write a Pandas program to create a TimeSeries to display all the Sundays of given year."
   ]
  },
  {
   "cell_type": "code",
   "execution_count": 237,
   "metadata": {},
   "outputs": [
    {
     "name": "stdout",
     "output_type": "stream",
     "text": [
      "0    2020-01-05\n",
      "1    2020-01-12\n",
      "2    2020-01-19\n",
      "3    2020-01-26\n",
      "4    2020-02-02\n",
      "5    2020-02-09\n",
      "6    2020-02-16\n",
      "7    2020-02-23\n",
      "8    2020-03-01\n",
      "9    2020-03-08\n",
      "10   2020-03-15\n",
      "11   2020-03-22\n",
      "12   2020-03-29\n",
      "13   2020-04-05\n",
      "14   2020-04-12\n",
      "15   2020-04-19\n",
      "16   2020-04-26\n",
      "17   2020-05-03\n",
      "18   2020-05-10\n",
      "19   2020-05-17\n",
      "20   2020-05-24\n",
      "21   2020-05-31\n",
      "22   2020-06-07\n",
      "23   2020-06-14\n",
      "24   2020-06-21\n",
      "25   2020-06-28\n",
      "26   2020-07-05\n",
      "27   2020-07-12\n",
      "28   2020-07-19\n",
      "29   2020-07-26\n",
      "30   2020-08-02\n",
      "31   2020-08-09\n",
      "32   2020-08-16\n",
      "33   2020-08-23\n",
      "34   2020-08-30\n",
      "35   2020-09-06\n",
      "36   2020-09-13\n",
      "37   2020-09-20\n",
      "38   2020-09-27\n",
      "39   2020-10-04\n",
      "40   2020-10-11\n",
      "41   2020-10-18\n",
      "42   2020-10-25\n",
      "43   2020-11-01\n",
      "44   2020-11-08\n",
      "45   2020-11-15\n",
      "46   2020-11-22\n",
      "47   2020-11-29\n",
      "48   2020-12-06\n",
      "49   2020-12-13\n",
      "50   2020-12-20\n",
      "51   2020-12-27\n",
      "dtype: datetime64[ns]\n"
     ]
    }
   ],
   "source": [
    "result = pd.Series(pd.date_range('2020-01-01', periods=52, freq='W-SUN'))\n",
    "print(result)"
   ]
  },
  {
   "cell_type": "markdown",
   "metadata": {},
   "source": [
    "36. Write a Pandas program to convert given series into a dataframe with its index as another column on the dataframe."
   ]
  },
  {
   "cell_type": "code",
   "execution_count": 258,
   "metadata": {},
   "outputs": [
    {
     "name": "stdout",
     "output_type": "stream",
     "text": [
      "0     A\n",
      "1     B\n",
      "2     C\n",
      "3     D\n",
      "4     E\n",
      "5     F\n",
      "6     G\n",
      "7     H\n",
      "8     I\n",
      "9     J\n",
      "10    K\n",
      "11    L\n",
      "12    M\n",
      "13    N\n",
      "14    O\n",
      "15    P\n",
      "dtype: object\n",
      "   Columns  IDX\n",
      "0        A    0\n",
      "1        B    1\n",
      "2        C    2\n",
      "3        D    3\n",
      "4        E    4\n",
      "5        F    5\n",
      "6        G    6\n",
      "7        H    7\n",
      "8        I    8\n",
      "9        J    9\n",
      "10       K   10\n",
      "11       L   11\n",
      "12       M   12\n",
      "13       N   13\n",
      "14       O   14\n",
      "15       P   15\n"
     ]
    }
   ],
   "source": [
    "series1 = pd.Series(list('ABCDEFGHIJKLMNOP'))\n",
    "print(series1)\n",
    "df=pd.DataFrame({'Columns':series1, 'IDX':series1.index})\n",
    "print(df)"
   ]
  },
  {
   "cell_type": "markdown",
   "metadata": {},
   "source": [
    "37. Write a Pandas program to stack two given series vertically and horizontally."
   ]
  },
  {
   "cell_type": "code",
   "execution_count": 241,
   "metadata": {},
   "outputs": [
    {
     "name": "stdout",
     "output_type": "stream",
     "text": [
      "     0  1\n",
      "0    0  P\n",
      "1    1  Q\n",
      "2    2  R\n",
      "3    3  S\n",
      "4    4  T\n",
      "5    5  U\n",
      "6    6  V\n",
      "7    7  W\n",
      "8    8  X\n",
      "9    9  Y\n",
      "10  10  Z\n",
      "0      0\n",
      "1      1\n",
      "2      2\n",
      "3      3\n",
      "4      4\n",
      "5      5\n",
      "6      6\n",
      "7      7\n",
      "8      8\n",
      "9      9\n",
      "10    10\n",
      "11     P\n",
      "12     Q\n",
      "13     R\n",
      "14     S\n",
      "15     T\n",
      "16     U\n",
      "17     V\n",
      "18     W\n",
      "19     X\n",
      "20     Y\n",
      "21     Z\n",
      "dtype: object\n"
     ]
    }
   ],
   "source": [
    "series1=pd.Series(range(11))\n",
    "series2=pd.Series(list('PQRSTUVWXYZ'))\n",
    "df = pd.concat([series1, series2], axis=1)\n",
    "print(df)\n",
    "df = pd.concat([series1, series2], axis=0, ignore_index=True)\n",
    "print(df)"
   ]
  },
  {
   "cell_type": "markdown",
   "metadata": {},
   "source": [
    "38. Write a Pandas program to check the equality of two given series."
   ]
  },
  {
   "cell_type": "code",
   "execution_count": 243,
   "metadata": {},
   "outputs": [
    {
     "name": "stdout",
     "output_type": "stream",
     "text": [
      "0      True\n",
      "1      True\n",
      "2      True\n",
      "3      True\n",
      "4     False\n",
      "5      True\n",
      "6      True\n",
      "7     False\n",
      "8      True\n",
      "9     False\n",
      "10     True\n",
      "11     True\n",
      "12    False\n",
      "dtype: bool\n"
     ]
    }
   ],
   "source": [
    "series1=pd.Series([1,2,3,4,5,6,46,4,8,54,21,64,9])\n",
    "series2=pd.Series([1,2,3,4,53,6,46,43,8,534,21,64,93])\n",
    "\n",
    "print(series1==series2)"
   ]
  },
  {
   "cell_type": "markdown",
   "metadata": {},
   "source": [
    "39. Write a Pandas program to find the index of the first occurrence of the smallest and largest value of a given series."
   ]
  },
  {
   "cell_type": "code",
   "execution_count": 249,
   "metadata": {},
   "outputs": [
    {
     "name": "stdout",
     "output_type": "stream",
     "text": [
      "11 \t 0\n"
     ]
    }
   ],
   "source": [
    "series1=pd.Series([1,2,3,4,5,6,46,4,8,54,21,64,9])\n",
    "\n",
    "max_idx=series1.idxmax()\n",
    "min_idx=series1.idxmin()\n",
    "print(max_idx,\"\\t\",min_idx)"
   ]
  },
  {
   "cell_type": "markdown",
   "metadata": {},
   "source": [
    "40. Write a Pandas program to check inequality over the index axis of a given dataframe and a given series."
   ]
  },
  {
   "cell_type": "code",
   "execution_count": 250,
   "metadata": {},
   "outputs": [
    {
     "name": "stdout",
     "output_type": "stream",
     "text": [
      "       W      X     Y     Z\n",
      "0  False   True  True  True\n",
      "1  False  False  True  True\n",
      "2  False   True  True  True\n",
      "3  False  False  True  True\n",
      "4   True   True  True  True\n"
     ]
    }
   ],
   "source": [
    "df = pd.DataFrame({'W':[68,75,86,80,None],'X':[78,75,None,80,86], 'Y':[84,94,89,86,86],'Z':[86,97,96,72,83]});\n",
    "series1= pd.Series([68, 75, 86, 80, None]) \n",
    "print(df.ne(series1, axis = 0))"
   ]
  },
  {
   "cell_type": "markdown",
   "metadata": {},
   "source": []
  }
 ],
 "metadata": {
  "kernelspec": {
   "display_name": "base",
   "language": "python",
   "name": "python3"
  },
  "language_info": {
   "codemirror_mode": {
    "name": "ipython",
    "version": 3
   },
   "file_extension": ".py",
   "mimetype": "text/x-python",
   "name": "python",
   "nbconvert_exporter": "python",
   "pygments_lexer": "ipython3",
   "version": "3.11.4"
  },
  "orig_nbformat": 4
 },
 "nbformat": 4,
 "nbformat_minor": 2
}
